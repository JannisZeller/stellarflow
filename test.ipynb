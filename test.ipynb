{
 "cells": [
  {
   "cell_type": "markdown",
   "metadata": {},
   "source": [
    "# First Tests and Ansatz"
   ]
  },
  {
   "cell_type": "code",
   "execution_count": 46,
   "metadata": {},
   "outputs": [],
   "source": [
    "## Imports\n",
    "import numpy as np\n",
    "import tensorflow as tf\n",
    "import tensorflow_probability as tfp\n",
    "import pandas as pd\n",
    "import matplotlib.pyplot as plt"
   ]
  },
  {
   "cell_type": "code",
   "execution_count": 47,
   "metadata": {},
   "outputs": [],
   "source": [
    "## Settings\n",
    "tf.random.set_seed(42)\n",
    "np.random.seed(42)"
   ]
  },
  {
   "cell_type": "markdown",
   "metadata": {},
   "source": [
    "## 01 Running an easy 2 Body Problem in a gradient tape"
   ]
  },
  {
   "cell_type": "code",
   "execution_count": 48,
   "metadata": {},
   "outputs": [],
   "source": [
    "@tf.function\n",
    "def inverse_pairwise_distances(X: tf.Tensor) -> tf.Tensor:\n",
    "    \"\"\"\n",
    "    Returns a matrix with the inverse paired euclidean distances of the instances (rows) in X. The diagonals get imputed with zeros.\n",
    "\n",
    "    Parameters\n",
    "    X : tf.Tensor of shape (N, 3)\n",
    "        Tensor with instances to compue the pairwise distances between each other. Gets casted to float32.\n",
    "   \n",
    "    Returns\n",
    "    tf.Tensor of shape (N, N)\n",
    "        Pairwise distances in the upper or lower triangular part.\n",
    "    \"\"\"\n",
    "    X = tf.cast(X, tf.float32)\n",
    "    r = tf.reduce_sum(X * X, 1)\n",
    "    r = tf.reshape(r, [-1, 1])\n",
    "    D = r - 2.*tf.matmul(X, tf.transpose(X)) + tf.transpose(r)\n",
    "    D = tf.linalg.set_diag(D, tf.repeat(np.inf, X.shape[0]))\n",
    "    D = tf.linalg.band_part(1./D, 0, -1)\n",
    "    return D\n",
    "\n",
    "@tf.function\n",
    "def pairwise_mass_product(M) -> tf.Tensor:\n",
    "    Msq = tf.expand_dims(M, axis=0) * tf.expand_dims(M, axis=1)\n",
    "    return Msq\n",
    "\n",
    "@tf.function\n",
    "def compute_potential(X: tf.Tensor, M: tf.Tensor) -> tf.Tensor:\n",
    "    D = inverse_pairwise_distances(X)\n",
    "    Msq = pairwise_mass_product(M)\n",
    "    return tf.reduce_sum(D*Msq)\n",
    "    \n",
    "@tf.function\n",
    "def compute_accelerations(grad: tf.Tensor, M: tf.Tensor) -> tf.Tensor:\n",
    "    return grad / tf.reshape(M, (-1, 1))"
   ]
  },
  {
   "cell_type": "code",
   "execution_count": 49,
   "metadata": {},
   "outputs": [],
   "source": [
    "X0 = tf.Variable([[0., 0., 0.], [1., 1., 0.], [2., 1., 0.]])\n",
    "M0 = tf.constant([3., 1., 1.])"
   ]
  },
  {
   "cell_type": "code",
   "execution_count": 50,
   "metadata": {},
   "outputs": [
    {
     "data": {
      "text/plain": [
       "<tf.Tensor: shape=(3, 3), dtype=float32, numpy=\n",
       "array([[0. , 0.5, 0.2],\n",
       "       [0. , 0. , 1. ],\n",
       "       [0. , 0. , 0. ]], dtype=float32)>"
      ]
     },
     "execution_count": 50,
     "metadata": {},
     "output_type": "execute_result"
    }
   ],
   "source": [
    "inverse_pairwise_distances(X0)"
   ]
  },
  {
   "cell_type": "code",
   "execution_count": 51,
   "metadata": {},
   "outputs": [
    {
     "data": {
      "text/plain": [
       "<tf.Tensor: shape=(), dtype=float32, numpy=3.1>"
      ]
     },
     "execution_count": 51,
     "metadata": {},
     "output_type": "execute_result"
    }
   ],
   "source": [
    "compute_potential(X0, M0)"
   ]
  },
  {
   "cell_type": "code",
   "execution_count": 52,
   "metadata": {},
   "outputs": [
    {
     "name": "stdout",
     "output_type": "stream",
     "text": [
      "tf.Tensor(\n",
      "[[ 1.98        1.74        0.        ]\n",
      " [ 0.5        -1.5         0.        ]\n",
      " [-2.48       -0.24000001  0.        ]], shape=(3, 3), dtype=float32)\n",
      "tf.Tensor(\n",
      "[[ 0.66        0.58        0.        ]\n",
      " [ 0.5        -1.5         0.        ]\n",
      " [-2.48       -0.24000001  0.        ]], shape=(3, 3), dtype=float32)\n"
     ]
    }
   ],
   "source": [
    "with tf.GradientTape() as tape:\n",
    "    tape.watch(X0)\n",
    "    pot_energy = compute_potential(X0, M0)\n",
    "grad = tape.gradient(pot_energy, X0)\n",
    "print(grad)\n",
    "print(compute_accelerations(grad, M0))"
   ]
  },
  {
   "cell_type": "markdown",
   "metadata": {},
   "source": [
    "## Runge Kutta Fehlberg integrator for the equations of Motion\n",
    "\n",
    "The Runge-Kutte-Fehlberg Method is a numerical Method for integrating ordinary differential equations. The following c++ implementation is meant to integrate equations of motion with the acceleration `f`.\n",
    "\n",
    "c++ Implementation:\n",
    "```c++\n",
    "void solver::runge_kutta_fehlberg2(vec3D& x, vec3D& v, double dt, std::function<vec3D(vec3D)> f) {\n",
    "    vec3D k1v = f(x);\n",
    "    vec3D k1x = v;\n",
    "    vec3D k2v = f(x + dt * k1x / 4.);\n",
    "    vec3D k2x = v + dt * k1v / 4.;\n",
    "    vec3D k3v = f(x + dt * k1x * 3. / 32. + dt * k2x * 9. / 32.);\n",
    "    vec3D k3x = v + dt * k1v * 3. / 32. + dt * k2v * 9. / 32.;\n",
    "    vec3D k4v = f(x + dt * k1x * 1932. / 2197. - dt * k2x * 7200. / 2197. + dt * k3x * 7296. / 2197.);\n",
    "    vec3D k4x = v + dt * k1v * 1932. / 2197. - dt * k2v * 7200. / 2197. + dt * k3v * 7296. / 2197.;\n",
    "    vec3D k5v = f(x + dt * k1x * 439. / 216. - dt * k2x * 8. + dt * k3x * 3680. / 513 - dt * k4x * 845. / 4104.);\n",
    "    vec3D k5x = v + dt * k1v * 439. / 216. - dt * k2v * 8. + dt * k3v * 3680. / 513 - dt * k4v * 845. / 4104.;\n",
    "    vec3D k6v = f(x - dt * k1x * 8. / 27. + dt * k2x * 2. - dt * k3x * 3544. / 2565. + dt * k4x * 1859. / 4104. - dt * k5x * 11. / 40.);\n",
    "    vec3D k6x = v - dt * k1v * 8. / 27. + dt * k2v * 2. - dt * k3v * 3544. / 2565. + dt * k4v * 1859. / 4104. - dt * k5v * 11. / 40.;\n",
    "    x = x + dt * (16. / 135. * k1x + 6656. / 12825. * k3x + 28561. / 56430. * k4x - 9. / 50. * k5x + 2. / 55. * k6x);\n",
    "    v = v + dt * (16. / 135. * k1v + 6656. / 12825. * k3v + 28561. / 56430. * k4v - 9. / 50. * k5v + 2. / 55. * k6v);\n",
    "}\n",
    "```"
   ]
  },
  {
   "cell_type": "code",
   "execution_count": null,
   "metadata": {},
   "outputs": [],
   "source": []
  }
 ],
 "metadata": {
  "kernelspec": {
   "display_name": "Python 3.9.12 ('tensorflow-gpu')",
   "language": "python",
   "name": "python3"
  },
  "language_info": {
   "codemirror_mode": {
    "name": "ipython",
    "version": 3
   },
   "file_extension": ".py",
   "mimetype": "text/x-python",
   "name": "python",
   "nbconvert_exporter": "python",
   "pygments_lexer": "ipython3",
   "version": "3.9.12"
  },
  "orig_nbformat": 4,
  "vscode": {
   "interpreter": {
    "hash": "049ae6cbeb45aed3592cc1a6df5d5f81e0a1f0b233b520ade5a5b25fce347d43"
   }
  }
 },
 "nbformat": 4,
 "nbformat_minor": 2
}
