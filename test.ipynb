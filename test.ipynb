{
 "cells": [
  {
   "cell_type": "markdown",
   "metadata": {},
   "source": [
    "# First Tests and Ansatz"
   ]
  },
  {
   "cell_type": "code",
   "execution_count": 199,
   "metadata": {},
   "outputs": [],
   "source": [
    "## Imports\n",
    "import numpy as np\n",
    "import tensorflow as tf\n",
    "import tensorflow_probability as tfp\n",
    "import pandas as pd\n",
    "import matplotlib.pyplot as plt"
   ]
  },
  {
   "cell_type": "code",
   "execution_count": 200,
   "metadata": {},
   "outputs": [],
   "source": [
    "## Settings\n",
    "tf.random.set_seed(42)\n",
    "np.random.seed(42)"
   ]
  },
  {
   "cell_type": "markdown",
   "metadata": {},
   "source": [
    "## 01 Running an easy 2 Body Problem in a gradient tape"
   ]
  },
  {
   "cell_type": "code",
   "execution_count": 201,
   "metadata": {},
   "outputs": [],
   "source": [
    "@tf.function\n",
    "def inverse_pairwise_distances(X) -> tf.Tensor:\n",
    "    \"\"\"\n",
    "    Returns a matrix with the inverse paired euclidean distances of the instances (rows) in X. The diagonals get imputed with zeros.\n",
    "\n",
    "    Parameters\n",
    "    X : tf.Tensor of shape (N, M)\n",
    "        Tensor with instances to compue the pairwise distances between each other. Gets casted to float32.\n",
    "   \n",
    "    Returns\n",
    "    tf.Tensor of shape (N, N)\n",
    "        Pairwise distances in the upper or lower triangular part.\n",
    "    \"\"\"\n",
    "    X = tf.cast(X, tf.float32)\n",
    "    r = tf.reduce_sum(X * X, 1)\n",
    "    r = tf.reshape(r, [-1, 1])\n",
    "    D = r - 2.*tf.matmul(X, tf.transpose(X)) + tf.transpose(r)\n",
    "    D = tf.linalg.set_diag(D, tf.repeat(np.inf, X.shape[0]))\n",
    "    D = tf.linalg.band_part(1./D, 0, -1)\n",
    "    return D\n",
    "\n",
    "@tf.function\n",
    "def pairwise_mass_product(M) -> tf.Tensor:\n",
    "    Msq = tf.expand_dims(M, axis=0) * tf.expand_dims(M, axis=1)\n",
    "    return Msq\n",
    "\n",
    "@tf.function\n",
    "def compute_potential(X: tf.Tensor, M: tf.Tensor) -> tf.Tensor:\n",
    "    D = inverse_pairwise_distances(X)\n",
    "    Msq = pairwise_mass_product(M)\n",
    "    return tf.reduce_sum(D*Msq)\n",
    "    "
   ]
  },
  {
   "cell_type": "code",
   "execution_count": 202,
   "metadata": {},
   "outputs": [],
   "source": [
    "X0 = tf.Variable([[0., 0., 0.], [1., 1., 1.], [2., 2., 2.]])\n",
    "M0 = tf.constant([3., 2., 1.])"
   ]
  },
  {
   "cell_type": "code",
   "execution_count": 203,
   "metadata": {},
   "outputs": [
    {
     "data": {
      "text/plain": [
       "<tf.Tensor: shape=(3, 3), dtype=float32, numpy=\n",
       "array([[0.        , 0.33333334, 0.08333334],\n",
       "       [0.        , 0.        , 0.33333334],\n",
       "       [0.        , 0.        , 0.        ]], dtype=float32)>"
      ]
     },
     "execution_count": 203,
     "metadata": {},
     "output_type": "execute_result"
    }
   ],
   "source": [
    "inverse_pairwise_distances(X0)"
   ]
  },
  {
   "cell_type": "code",
   "execution_count": 204,
   "metadata": {},
   "outputs": [
    {
     "data": {
      "text/plain": [
       "<tf.Tensor: shape=(), dtype=float32, numpy=2.9166667>"
      ]
     },
     "execution_count": 204,
     "metadata": {},
     "output_type": "execute_result"
    }
   ],
   "source": [
    "compute_potential(X0, M0)"
   ]
  },
  {
   "cell_type": "code",
   "execution_count": 205,
   "metadata": {},
   "outputs": [
    {
     "name": "stdout",
     "output_type": "stream",
     "text": [
      "tf.Tensor(\n",
      "[[ 1.4166667  1.4166667  1.4166667]\n",
      " [-0.8888889 -0.8888889 -0.8888889]\n",
      " [-0.5277778 -0.5277778 -0.5277778]], shape=(3, 3), dtype=float32)\n"
     ]
    }
   ],
   "source": [
    "with tf.GradientTape() as tape:\n",
    "    tape.watch(X0)\n",
    "    pot_energy = compute_potential(X0, M0)\n",
    "grad = tape.gradient(pot_energy, X0)\n",
    "print(grad)"
   ]
  },
  {
   "cell_type": "code",
   "execution_count": 206,
   "metadata": {},
   "outputs": [
    {
     "data": {
      "text/plain": [
       "<tf.Tensor: shape=(), dtype=float32, numpy=2.9166667>"
      ]
     },
     "execution_count": 206,
     "metadata": {},
     "output_type": "execute_result"
    }
   ],
   "source": [
    "pot_energy"
   ]
  },
  {
   "cell_type": "code",
   "execution_count": null,
   "metadata": {},
   "outputs": [],
   "source": []
  }
 ],
 "metadata": {
  "kernelspec": {
   "display_name": "Python 3.9.12 ('tensorflow-gpu')",
   "language": "python",
   "name": "python3"
  },
  "language_info": {
   "codemirror_mode": {
    "name": "ipython",
    "version": 3
   },
   "file_extension": ".py",
   "mimetype": "text/x-python",
   "name": "python",
   "nbconvert_exporter": "python",
   "pygments_lexer": "ipython3",
   "version": "3.9.12"
  },
  "orig_nbformat": 4,
  "vscode": {
   "interpreter": {
    "hash": "049ae6cbeb45aed3592cc1a6df5d5f81e0a1f0b233b520ade5a5b25fce347d43"
   }
  }
 },
 "nbformat": 4,
 "nbformat_minor": 2
}
