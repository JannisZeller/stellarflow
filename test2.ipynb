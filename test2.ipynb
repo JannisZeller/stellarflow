{
 "cells": [
  {
   "cell_type": "code",
   "execution_count": 6,
   "metadata": {},
   "outputs": [],
   "source": [
    "## Imports\n",
    "import numpy as np\n",
    "import tensorflow as tf\n",
    "import pandas as pd\n",
    "import matplotlib.pyplot as plt"
   ]
  },
  {
   "cell_type": "code",
   "execution_count": 7,
   "metadata": {},
   "outputs": [
    {
     "data": {
      "text/plain": [
       "array([[1., 2., 3., 1., 2., 3.],\n",
       "       [1., 2., 3., 1., 2., 3.]])"
      ]
     },
     "execution_count": 7,
     "metadata": {},
     "output_type": "execute_result"
    }
   ],
   "source": [
    "X = np.array([\n",
    "    [1., 2., 3.],\n",
    "    [1., 2., 3.]\n",
    "])\n",
    "\n",
    "np.concatenate([X, X], axis=1)"
   ]
  },
  {
   "cell_type": "code",
   "execution_count": 8,
   "metadata": {},
   "outputs": [],
   "source": [
    "## Settings\n",
    "tf.random.set_seed(42)\n",
    "np.random.seed(42)\n",
    "AU = 147095000000.\n",
    "ED = 86400."
   ]
  },
  {
   "cell_type": "code",
   "execution_count": 9,
   "metadata": {},
   "outputs": [],
   "source": [
    "@tf.function\n",
    "def pairwise_distances(X: tf.Tensor) -> tf.Tensor:\n",
    "    return tf.expand_dims(X, axis=0) - tf.expand_dims(X, axis=1)\n",
    "\n",
    "@tf.function\n",
    "def acceleration(Q: tf.Tensor, M: tf.Tensor, G: float = 6.67430e-11 / 149597870700.**3. * 86400.**2. * 1.98847e30) -> tf.Tensor:\n",
    "\n",
    "    ## Calculating Pairwise Distances\n",
    "    D = pairwise_distances(Q[:, :3])\n",
    "\n",
    "    ## Masking and reshaping X and M to drop self-differences:\n",
    "    mask_reps = int(D.shape[0])\n",
    "    mask_len = int(mask_reps*mask_reps)\n",
    "    D = tf.reshape(D, (-1, 3))\n",
    "    mask = tf.tile([False] + (mask_reps)*[True], [mask_reps])[:mask_len] ## Would be optimal to store as constant in a class.\n",
    "    D = tf.boolean_mask(D, mask, axis=0)\n",
    "\n",
    "    D = tf.reshape(D, (mask_reps, (mask_reps-1), -1))\n",
    "\n",
    "    # print(\"Distance\")\n",
    "    # print(D)\n",
    "\n",
    "    M = tf.tile(M, [mask_reps])\n",
    "    M = tf.reshape(M, (-1, 1))\n",
    "    M = tf.boolean_mask(M, mask, axis=0)\n",
    "    M = tf.reshape(M, (mask_reps, -1, 1))\n",
    "\n",
    "    # print(\"Masses\")\n",
    "    # print(M)\n",
    "\n",
    "    ## Calculating |xi-xj|^(-3)\n",
    "    d_inv_cube = tf.pow(tf.reduce_sum(D*D, axis=-1, keepdims=True) + 1e-2, -3./2.) # 1e-10 to smooth numerical overflow\n",
    "\n",
    "    # print(\"|D|^{-3}\")\n",
    "    # print(d_inv_cube)\n",
    "    \n",
    "    ## Calculating pairwise Force\n",
    "    F = M * D * d_inv_cube\n",
    "\n",
    "    ## Summation over each other body\n",
    "    F = G * tf.reduce_sum(F, axis=1)\n",
    "\n",
    "    # print(\"Force\")\n",
    "    # print(F)\n",
    "\n",
    "    ## Combining to R6 acceleration\n",
    "    dQ = tf.concat([Q[:, 3:], F], axis=-1)\n",
    "    \n",
    "    return dQ\n",
    "\n",
    "def return_ode_fn(M):\n",
    "    @tf.function\n",
    "    def ode_fn(Q):\n",
    "        return acceleration(Q, M)\n",
    "    return ode_fn\n"
   ]
  },
  {
   "cell_type": "code",
   "execution_count": 10,
   "metadata": {},
   "outputs": [
    {
     "data": {
      "text/plain": [
       "0.017797477820456167"
      ]
     },
     "execution_count": 10,
     "metadata": {},
     "output_type": "execute_result"
    }
   ],
   "source": [
    "30300./AU*ED"
   ]
  },
  {
   "cell_type": "code",
   "execution_count": 11,
   "metadata": {},
   "outputs": [
    {
     "name": "stdout",
     "output_type": "stream",
     "text": [
      "<tf.Variable 'Variable:0' shape=(3, 6) dtype=float32, numpy=\n",
      "array([[0.        , 0.        , 0.        , 0.        , 0.        ,\n",
      "        0.        ],\n",
      "       [1.        , 0.        , 0.        , 0.        , 0.01779748,\n",
      "        0.        ],\n",
      "       [0.        , 1.524     , 0.        , 0.01590025, 0.        ,\n",
      "        0.        ]], dtype=float32)>\n",
      "tf.Tensor([1.000000e+00 3.002500e-06 3.212675e-07], shape=(3,), dtype=float32)\n"
     ]
    }
   ],
   "source": [
    "Q0 = tf.Variable([\n",
    "    [0., 0., 0., 0., 0., 0.], \n",
    "    [1., 0., 0., 0., 30300./AU*ED, 0.], # Earth\n",
    "    [0., 1.524, 0., 27070./AU*ED, 0., 0.], # Mars\n",
    "    # [3., 0., 0., 0., 3.*30300./AU*ED, 0.]\n",
    "])\n",
    "M0 = tf.constant([\n",
    "    1., \n",
    "    3.0025e-6, # Earth\n",
    "    0.107 * 3.0025e-6, # Mars\n",
    "    # 3.0025e-6\n",
    "])\n",
    "print(Q0)\n",
    "print(M0)"
   ]
  },
  {
   "cell_type": "code",
   "execution_count": 12,
   "metadata": {},
   "outputs": [],
   "source": [
    "N_init = 1000\n",
    "X0 = tf.random.normal(shape=(N_init, 3), mean=0, stddev=10., dtype=tf.float64)\n",
    "V0 = tf.random.normal(shape=(N_init, 3), mean=0., stddev=0.05, dtype=tf.float64)\n",
    "Q0 = tf.concat([X0, V0], axis=1)\n",
    "Q0 = tf.Variable(Q0)\n",
    "# print(Q0)\n",
    "M0 = tf.constant(np.random.chisquare(df=1, size=N_init), dtype=tf.float64)\n",
    "# print(M0)"
   ]
  },
  {
   "cell_type": "code",
   "execution_count": 13,
   "metadata": {},
   "outputs": [],
   "source": [
    "# Q0 = tf.Variable([\n",
    "#     [ 1., 0., 0., 0., 0.01, 0.],\n",
    "#     [-1., 0., 0., 0., -0.01, 0.]\n",
    "# ], dtype=tf.float64)\n",
    "# print(Q0)\n",
    "# M0 = tf.constant(2*[1.], dtype=tf.float64)\n",
    "# print(M0)"
   ]
  },
  {
   "cell_type": "code",
   "execution_count": 14,
   "metadata": {},
   "outputs": [],
   "source": [
    "# acceleration(Q0, M0)"
   ]
  },
  {
   "cell_type": "markdown",
   "metadata": {},
   "source": [
    "## Runge Kutta Fehlberg integrator for the equations of Motion\n",
    "\n",
    "The Runge-Kutte-Fehlberg Method is a numerical Method for integrating ordinary differential equations. The following implementation is meant to integrate equations of motion with the acceleration `f`."
   ]
  },
  {
   "cell_type": "code",
   "execution_count": 15,
   "metadata": {},
   "outputs": [],
   "source": [
    "@tf.function\n",
    "def solver_rkf(Q, dt, f):\n",
    "    k1 = f(Q)\n",
    "    k2 = f(Q + dt * k1 / 4.)\n",
    "    k3 = f(Q + dt * k1 * 3. / 32.      + dt * k2 * 9. / 32.)\n",
    "    k4 = f(Q + dt * k1 * 1932. / 2197. - dt * k2 * 7200. / 2197. + dt * k3 * 7296. / 2197.)\n",
    "    k5 = f(Q + dt * k1 * 439. / 216.   - dt * k2 * 8.            + dt * k3 * 3680. / 513   - dt * k4 * 845. / 4104.)\n",
    "    k6 = f(Q - dt * k1 * 8. / 27.      + dt * k2 * 2.            - dt * k3 * 3544. / 2565. + dt * k4 * 1859. / 4104. - dt * k5 * 11. / 40.)\n",
    "    Q = Q + dt * (16. / 135. * k1 + 6656. / 12825. * k3 + 28561. / 56430. * k4 - 9. / 50. * k5 + 2. / 55. * k6)\n",
    "    return Q"
   ]
  },
  {
   "cell_type": "markdown",
   "metadata": {},
   "source": [
    "## First Test"
   ]
  },
  {
   "cell_type": "code",
   "execution_count": 16,
   "metadata": {},
   "outputs": [],
   "source": [
    "ode_fn = return_ode_fn(M0)\n",
    "\n",
    "Q = Q0\n",
    "dt = 1\n",
    "Q_hist = [Q]\n",
    "n_years = 10\n",
    "\n",
    "for k in range(n_years*365):\n",
    "    Q = solver_rkf(Q, dt, ode_fn)\n",
    "    Q_hist = tf.concat([Q_hist, [Q]], axis=0)\n",
    "\n",
    "# Q_hist[:2]"
   ]
  },
  {
   "cell_type": "code",
   "execution_count": 17,
   "metadata": {},
   "outputs": [
    {
     "name": "stderr",
     "output_type": "stream",
     "text": [
      "c:\\Users\\janni\\anaconda3\\envs\\tensorflow-gpu\\lib\\site-packages\\matplotlib\\collections.py:981: RuntimeWarning: invalid value encountered in sqrt\n",
      "  scale = np.sqrt(self._sizes) * dpi / 72.0 * self._factor\n"
     ]
    },
    {
     "data": {
      "image/png": "[encoded data removed]",
      "text/plain": [
       "<Figure size 720x720 with 1 Axes>"
      ]
     },
     "metadata": {
      "needs_background": "light"
     },
     "output_type": "display_data"
    }
   ],
   "source": [
    "plt.figure(figsize=(10, 10))\n",
    "for n in range(Q_hist.shape[1]):\n",
    "    plt.scatter(Q_hist[:, n, 0], Q_hist[:, n, 1], Q_hist[:, n, 2])\n",
    "# plt.scatter(Q_hist[:, 0, 0], Q_hist[:, 0, 1])\n",
    "plt.show()"
   ]
  },
  {
   "cell_type": "code",
   "execution_count": null,
   "metadata": {},
   "outputs": [],
   "source": []
  }
 ],
 "metadata": {
  "kernelspec": {
   "display_name": "Python 3.9.12 ('tensorflow-gpu')",
   "language": "python",
   "name": "python3"
  },
  "language_info": {
   "codemirror_mode": {
    "name": "ipython",
    "version": 3
   },
   "file_extension": ".py",
   "mimetype": "text/x-python",
   "name": "python",
   "nbconvert_exporter": "python",
   "pygments_lexer": "ipython3",
   "version": "3.9.12"
  },
  "orig_nbformat": 4,
  "vscode": {
   "interpreter": {
    "hash": "049ae6cbeb45aed3592cc1a6df5d5f81e0a1f0b233b520ade5a5b25fce347d43"
   }
  }
 },
 "nbformat": 4,
 "nbformat_minor": 2
}
