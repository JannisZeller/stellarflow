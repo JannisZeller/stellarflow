{
 "cells": [
  {
   "cell_type": "markdown",
   "metadata": {},
   "source": [
    "# 001 Tests on how to extend the stellarflow system to a `tf-agents` compatible RL-Env.\n",
    "\n",
    "Inspiration: https://towardsdatascience.com/creating-a-custom-environment-for-tensorflow-agent-tic-tac-toe-example-b66902f73059"
   ]
  },
  {
   "cell_type": "code",
   "execution_count": 355,
   "metadata": {},
   "outputs": [],
   "source": [
    "## Imports\n",
    "import sys\n",
    "sys.path.append(\"./source/\")\n",
    "\n",
    "import stellarflow as stf\n",
    "import numpy as np\n",
    "import tensorflow as tf\n",
    "\n",
    "## Settings\n",
    "AU, ED = stf.System._AU, stf.System._ED\n",
    "\n",
    "## Checking if GPU is used\n",
    "if len(tf.config.list_physical_devices('GPU')) == 0:\n",
    "    print(\"NO GPU FOUND!\")"
   ]
  },
  {
   "cell_type": "code",
   "execution_count": 356,
   "metadata": {},
   "outputs": [],
   "source": [
    "from tf_agents.environments import py_environment\n",
    "from tf_agents.environments import tf_environment\n",
    "from tf_agents.environments import tf_py_environment\n",
    "from tf_agents.environments import utils\n",
    "from tf_agents.specs import array_spec\n",
    "from tf_agents.environments import wrappers\n",
    "from tf_agents.environments import suite_gym\n",
    "from tf_agents.trajectories import time_step as ts"
   ]
  },
  {
   "cell_type": "code",
   "execution_count": 357,
   "metadata": {},
   "outputs": [],
   "source": [
    "## TODO: Plan: Create a py_environment based on the stellarfow.system and wrapping it in a TFPyEnvironment"
   ]
  },
  {
   "cell_type": "code",
   "execution_count": 358,
   "metadata": {},
   "outputs": [
    {
     "data": {
      "text/plain": [
       "array([1, 2, 2, 3])"
      ]
     },
     "execution_count": 358,
     "metadata": {},
     "output_type": "execute_result"
    }
   ],
   "source": [
    "test = np.concatenate([np.array([1, 2]), np.array([2, 3])], axis=0)\n",
    "np.array(test)"
   ]
  },
  {
   "cell_type": "code",
   "execution_count": 359,
   "metadata": {},
   "outputs": [],
   "source": [
    "class stfaEnv(py_environment.PyEnvironment):\n",
    "    ## TODO: Implement mass / propellant consumtion\n",
    "    def __init__(self, \n",
    "            mass: float,\n",
    "            initial_location: np.ndarray, \n",
    "            initial_velocity: np.ndarray, \n",
    "            target_point: np.ndarray,\n",
    "            stfSystem: stf.System,\n",
    "            target_point_relative: bool=False,\n",
    "            target_point_relative_to: int=None,\n",
    "            reward_factor_boost: float=1.0,\n",
    "            reward_factor_target_distance: float=1.0):\n",
    "\n",
    "        ## Additional Information for spacecraft\n",
    "        self._m = mass\n",
    "        self._x = np.array(initial_location)\n",
    "        self._y = np.array(initial_velocity)\n",
    "        q = np.concatenate([initial_location, initial_velocity], axis=0)\n",
    "        self._q = tf.Variable(q, dtype=tf.float32)\n",
    "        self._reward_factor_boost = reward_factor_boost\n",
    "        self._reward_factor_target_distance = reward_factor_target_distance\n",
    "\n",
    "        ## Target Location for rewards\n",
    "        self._target = tf.constant(target_point, dtype=tf.float32)\n",
    "        self._target_point_relative = target_point_relative\n",
    "        if target_point_relative and target_point_relative_to is None:\n",
    "            print(\"No target point reference object ('target_point_relative_to') provided, using first object of System.\")\n",
    "            self._target_point_relative_to = 0\n",
    "        else:\n",
    "            self._target_point_relative_to = target_point_relative_to\n",
    "\n",
    "        ## Binding with stf.System:\n",
    "        temp = np.concatenate([stfSystem._Q.numpy(), np.expand_dims(self._q, axis=0)], axis=0)\n",
    "        stfSystem._Q = tf.Variable(temp, dtype=tf.float32)\n",
    "        stfSystem._Q_hist = tf.cast(tf.expand_dims(stfSystem._Q, axis=0), dtype=tf.float32)\n",
    "        stfSystem._mask_reps, stfSystem._mask_len, stfSystem._mask = stfSystem._create_mask(stfSystem._Q.shape[0])\n",
    "        stfSystem.masses = np.concatenate([stfSystem.masses, [mass]], axis=0)\n",
    "        stfSystem._M = stfSystem._reshape_masses(stfSystem.masses)\n",
    "        self._sys = stfSystem\n",
    "\n",
    "        ## State for max iterations\n",
    "        self.n_iter = 0\n",
    "\n",
    "        ## Providing for tfa-py_env\n",
    "        self._action_spec = array_spec.BoundedArraySpec(shape=(3,), dtype=np.float32, name=\"boost\")\n",
    "        self._observation_spec = array_spec.ArraySpec(self._sys._Q.shape, dtype=np.float32, name=\"q-vector\")\n",
    "        self._state = self._sys._Q.numpy()\n",
    "        self._initial_q = self._sys._Q\n",
    "        self._episode_ended = False\n",
    "\n",
    "    def action_spec(self):\n",
    "        return self._action_spec\n",
    "\n",
    "    def observation_spec(self):\n",
    "        return self._observation_spec\n",
    "\n",
    "    def _reset(self):\n",
    "        self._state = self._initial_q.numpy()\n",
    "        self._episode_ended = False\n",
    "        self._sys._reset()\n",
    "        return ts.restart(self._state)\n",
    "\n",
    "    def __compute_target_distance(self):\n",
    "        # TODO: Target point might need to be a function of steps, which needs to get hand designed for flexibility (e. g. Lagrange Points).\n",
    "        if self._target_point_relative:\n",
    "            target = self._target + self._sys._Q[self._target_point_relative_to, :3]\n",
    "            return target - self._q[:3]\n",
    "        else:\n",
    "            return self._target - self._q[:3]\n",
    "\n",
    "    def __calc_new_mass(self):\n",
    "        # TODO: Effect of boosting (propellant consumption)\n",
    "        return self._m\n",
    "\n",
    "    @tf.function\n",
    "    def _accelerations_plus_boost(self, Q):\n",
    "        return self._sys._acceleration(Q) + self._current_boost\n",
    "\n",
    "    def _step(self, action: np.ndarray):\n",
    "        self.n_iter += 1\n",
    "\n",
    "        if self._episode_ended:\n",
    "        # The last action ended the episode. Ignore the current action and start\n",
    "        # a new episode.\n",
    "            return self.reset()\n",
    "\n",
    "        # Adding the booth to the acceleations of system\n",
    "        # accelerations = self._sys._acceleration(self._sys._Q)\n",
    "        boost = tf.Variable(tf.zeros_like(self._sys._Q, dtype=self._sys._Q.dtype)) \n",
    "        boost[-1, 3:].assign(tf.constant(action, dtype=boost.dtype))\n",
    "        self._current_boost = boost / self.__calc_new_mass()\n",
    "        # accelerations_boosted = accelerations + boost / self.__calc_new_mass()\n",
    "        \n",
    "        # Performing a system step\n",
    "        Q = self._sys._solver_rkf(self._sys._Q, self._accelerations_plus_boost)\n",
    "        self._sys._Q_hist = tf.concat([self._sys._Q_hist, [Q]], axis=0)\n",
    "        self._sys._Q = Q\n",
    "        self._q = Q[-1]\n",
    "        self._state = self._sys._Q.numpy()\n",
    "\n",
    "        # Bounding episode length\n",
    "        if self._episode_ended or self.n_iter > 1000:\n",
    "            reward = 0.0\n",
    "            return ts.termination(self._state, reward)\n",
    "\n",
    "        # Rewarding with boost length and distance to target\n",
    "        else:\n",
    "            distance = np.linalg.norm(self.__compute_target_distance())\n",
    "            target = self._sys._Q[self._target_point_relative_to]\n",
    "            reward = -self._reward_factor_boost*np.linalg.norm(action) - self._reward_factor_target_distance*distance\n",
    "            return ts.transition(\n",
    "                np.array(self._state, dtype=np.float32), reward=reward, discount=1.0)\n"
   ]
  },
  {
   "cell_type": "markdown",
   "metadata": {},
   "source": [
    "## Testing"
   ]
  },
  {
   "cell_type": "code",
   "execution_count": 360,
   "metadata": {},
   "outputs": [],
   "source": [
    "X = np.array([\n",
    "    [0., 0.,    0.], # Sun \n",
    "    [1., 0.,    0.], # Earth\n",
    "    [0., 1.524, 0.]  # Mars\n",
    "])\n",
    "\n",
    "V = np.array([\n",
    "    [0.,           0., 0.], # Sun \n",
    "    [0., 29290./AU*ED, 0.],  # Earth\n",
    "    [27070./AU*ED, 0., 0.],  # Mars\n",
    "])\n",
    "\n",
    "M = np.array([\n",
    "    1.,                # Sun\n",
    "    3.0025e-6,         # Earth\n",
    "    0.107 * 3.0025e-6  # Mars\n",
    "])\n",
    "\n",
    "SEM_system = stf.System(X, V, M)"
   ]
  },
  {
   "cell_type": "code",
   "execution_count": 361,
   "metadata": {},
   "outputs": [],
   "source": [
    "env = stfaEnv(mass=1e-28, initial_location=[1.1, 0., 0.], initial_velocity=[0., 0.01, 0.], target_point=[2., 0., 0.], stfSystem=SEM_system)"
   ]
  },
  {
   "cell_type": "code",
   "execution_count": 362,
   "metadata": {},
   "outputs": [],
   "source": [
    "fixed_boost = 1e-32*np.array([1., 0., 0.])"
   ]
  },
  {
   "cell_type": "code",
   "execution_count": 363,
   "metadata": {},
   "outputs": [],
   "source": [
    "for _ in range(100):\n",
    "    env._step(fixed_boost)"
   ]
  },
  {
   "cell_type": "code",
   "execution_count": 351,
   "metadata": {},
   "outputs": [
    {
     "data": {
      "image/png": "[encoded data removed]",
      "text/plain": [
       "<Figure size 1000x1000 with 1 Axes>"
      ]
     },
     "metadata": {},
     "output_type": "display_data"
    }
   ],
   "source": [
    "SEM_system.plot_history_2d()"
   ]
  },
  {
   "cell_type": "code",
   "execution_count": 352,
   "metadata": {},
   "outputs": [],
   "source": [
    "utils.validate_py_environment(env, episodes=1)"
   ]
  },
  {
   "cell_type": "markdown",
   "metadata": {},
   "source": [
    "## Trying to make the env a tf_env"
   ]
  },
  {
   "cell_type": "code",
   "execution_count": 353,
   "metadata": {},
   "outputs": [],
   "source": [
    "del env\n",
    "SEM_system._reset()"
   ]
  },
  {
   "cell_type": "code",
   "execution_count": 354,
   "metadata": {},
   "outputs": [
    {
     "name": "stdout",
     "output_type": "stream",
     "text": [
      "True\n",
      "TimeStep Specs: TimeStep(\n",
      "{'discount': BoundedTensorSpec(shape=(), dtype=tf.float32, name='discount', minimum=array(0., dtype=float32), maximum=array(1., dtype=float32)),\n",
      " 'observation': TensorSpec(shape=(4, 6), dtype=tf.float32, name='q-vector'),\n",
      " 'reward': TensorSpec(shape=(), dtype=tf.float32, name='reward'),\n",
      " 'step_type': TensorSpec(shape=(), dtype=tf.int32, name='step_type')})\n",
      "Action Specs: BoundedTensorSpec(shape=(3,), dtype=tf.float32, name='boost', minimum=array(-3.4028235e+38, dtype=float32), maximum=array(3.4028235e+38, dtype=float32))\n"
     ]
    }
   ],
   "source": [
    "SEM_system = stf.System(X, V, M)\n",
    "env = stfaEnv(mass=1e-28, initial_location=[1.1, 0., 0.], initial_velocity=[0., 0.01, 0.], target_point=[2., 0., 0.], stfSystem=SEM_system)\n",
    "tf_env = tf_py_environment.TFPyEnvironment(env)\n",
    "print(isinstance(tf_env, tf_environment.TFEnvironment))\n",
    "print(\"TimeStep Specs:\", tf_env.time_step_spec())\n",
    "print(\"Action Specs:\", tf_env.action_spec())"
   ]
  }
 ],
 "metadata": {
  "kernelspec": {
   "display_name": "Python 3.10.4 ('tfa-gpu')",
   "language": "python",
   "name": "python3"
  },
  "language_info": {
   "codemirror_mode": {
    "name": "ipython",
    "version": 3
   },
   "file_extension": ".py",
   "mimetype": "text/x-python",
   "name": "python",
   "nbconvert_exporter": "python",
   "pygments_lexer": "ipython3",
   "version": "3.10.4"
  },
  "orig_nbformat": 4,
  "vscode": {
   "interpreter": {
    "hash": "b28dcc1f87ebe436630d7ecff3a3c61833e6c22febb81b1e7cd0d34da649d2b8"
   }
  }
 },
 "nbformat": 4,
 "nbformat_minor": 2
}
