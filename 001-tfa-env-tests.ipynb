{
 "cells": [
  {
   "cell_type": "markdown",
   "metadata": {},
   "source": [
    "# 001 Tests on how to extend the stellarflow system to a `tf-agents` compatible RL-Env.\n",
    "\n",
    "Inspiration: https://towardsdatascience.com/creating-a-custom-environment-for-tensorflow-agent-tic-tac-toe-example-b66902f73059"
   ]
  },
  {
   "cell_type": "code",
   "execution_count": 9,
   "metadata": {},
   "outputs": [],
   "source": [
    "## Imports\n",
    "import sys\n",
    "sys.path.append(\"./source/\")\n",
    "\n",
    "import stellarflow as stf\n",
    "import numpy as np\n",
    "import tensorflow as tf\n",
    "\n",
    "## Settings\n",
    "AU, ED = stf.System._AU, stf.System._ED\n",
    "\n",
    "## Checking if GPU is used\n",
    "if len(tf.config.list_physical_devices('GPU')) == 0:\n",
    "    print(\"NO GPU FOUND!\")"
   ]
  },
  {
   "cell_type": "code",
   "execution_count": 10,
   "metadata": {},
   "outputs": [],
   "source": [
    "from tf_agents.environments import py_environment\n",
    "from tf_agents.environments import tf_environment\n",
    "from tf_agents.environments import tf_py_environment\n",
    "from tf_agents.environments import utils\n",
    "from tf_agents.specs import array_spec\n",
    "from tf_agents.environments import wrappers\n",
    "from tf_agents.environments import suite_gym\n",
    "from tf_agents.trajectories import time_step as ts"
   ]
  },
  {
   "cell_type": "code",
   "execution_count": 11,
   "metadata": {},
   "outputs": [],
   "source": [
    "## TODO: Plan: Create a py_environment based on the stellarfow.system and wrapping it in a TFPyEnvironment"
   ]
  },
  {
   "cell_type": "code",
   "execution_count": 14,
   "metadata": {},
   "outputs": [
    {
     "data": {
      "text/plain": [
       "array([1, 2, 2, 3])"
      ]
     },
     "execution_count": 14,
     "metadata": {},
     "output_type": "execute_result"
    }
   ],
   "source": [
    "np.concatenate([np.array([1, 2]), np.array([2, 3])], axis=0)"
   ]
  },
  {
   "cell_type": "code",
   "execution_count": null,
   "metadata": {},
   "outputs": [],
   "source": [
    "class stfaEnv(py_environment.PyEnvironment):\n",
    "    ## TODO: Implement mass / propellant consumtion\n",
    "    def __init__(self, \n",
    "            mass: float,\n",
    "            initial_location: np.ndarray, \n",
    "            initial_velocity: np.ndarray, \n",
    "            stfSystem: stf.System):\n",
    "        ## Providing for tfa-py_env\n",
    "        self._action_spec = array_spec.BoundedArraySpec(\n",
    "            shape=(3,), dtype=np.float32, name=\"boost\", )\n",
    "        self._observation_spec = array_spec.ArraySpec(\n",
    "            shape=(3,), dtype=np.float32, name=\"location\")\n",
    "        self._state = initial_location\n",
    "        self._initial_location = initial_location\n",
    "        self._episode_ended = False\n",
    "\n",
    "        ## Additional Information for spacecraft\n",
    "        self._m = mass\n",
    "        self._x = initial_location\n",
    "        self._y = initial_velocity\n",
    "        self._q = np.concatenate([initial_location, initial_velocity], axis=0)\n",
    "\n",
    "        ## Binding with stf.System:\n",
    "        temp = np.concatenate([stfSystem._Q.numpy(), np.expand_dims(self._q, axis=0)], axis=0)\n",
    "        stfSystem._Q = tf.Variable(temp, dtype=tf.float32)\n",
    "        stfSystem._Q_hist = [stfSystem._Q]\n",
    "        stfSystem.masses = np.concatenate([stfSystem.masses, mass], axis=0)\n",
    "        stfSystem._M = stfSystem.__reshape_masses(stfSystem.masses)\n",
    "\n",
    "    def action_spec(self):\n",
    "        return self._action_spec\n",
    "\n",
    "    def observation_spec(self):\n",
    "        return self._observation_spec\n",
    "\n",
    "    def _reset(self):\n",
    "        self._state = self._initial_location\n",
    "        self._episode_ended = False\n",
    "        return ts.restart(np.array([self._state], dtype=np.int32))\n",
    "\n",
    "    def _step(self, action: np.ndarray):\n",
    "\n",
    "        if self._episode_ended:\n",
    "        # The last action ended the episode. Ignore the current action and start\n",
    "        # a new episode.\n",
    "            return self.reset()\n",
    "\n",
    "        # Make sure episodes don't go on forever.\n",
    "        if action == 1:\n",
    "            self._episode_ended = True  \n",
    "        elif action == 0:\n",
    "            new_card = np.random.randint(1, 11)\n",
    "            self._state += new_card\n",
    "        else:\n",
    "            raise ValueError('`action` should be 0 or 1.')\n",
    "\n",
    "        if self._episode_ended or self._state >= 21:\n",
    "            reward = self._state - 21 if self._state <= 21 else -21\n",
    "            return ts.termination(np.array([self._state], dtype=np.int32), reward)\n",
    "        else:\n",
    "            return ts.transition(\n",
    "                np.array([self._state], dtype=np.int32), reward=0.0, discount=1.0)\n"
   ]
  }
 ],
 "metadata": {
  "kernelspec": {
   "display_name": "Python 3.10.4 ('tfa-gpu')",
   "language": "python",
   "name": "python3"
  },
  "language_info": {
   "codemirror_mode": {
    "name": "ipython",
    "version": 3
   },
   "file_extension": ".py",
   "mimetype": "text/x-python",
   "name": "python",
   "nbconvert_exporter": "python",
   "pygments_lexer": "ipython3",
   "version": "3.10.4"
  },
  "orig_nbformat": 4,
  "vscode": {
   "interpreter": {
    "hash": "b28dcc1f87ebe436630d7ecff3a3c61833e6c22febb81b1e7cd0d34da649d2b8"
   }
  }
 },
 "nbformat": 4,
 "nbformat_minor": 2
}
