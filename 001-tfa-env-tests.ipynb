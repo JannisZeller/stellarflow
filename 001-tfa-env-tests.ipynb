{
 "cells": [
  {
   "cell_type": "markdown",
   "metadata": {},
   "source": [
    "# 001 Tests on how to extend the stellarflow system to a `tf-agents` compatible RL-Env.\n",
    "\n",
    "Inspiration: https://towardsdatascience.com/creating-a-custom-environment-for-tensorflow-agent-tic-tac-toe-example-b66902f73059"
   ]
  },
  {
   "cell_type": "code",
   "execution_count": 34,
   "metadata": {},
   "outputs": [],
   "source": [
    "## Imports\n",
    "import numpy as np\n",
    "import tensorflow as tf\n",
    "import sys\n",
    "from os.path import join\n",
    "from os import getcwd\n",
    "sys.path.append(join(getcwd(), \"source\"))\n",
    "\n",
    "from importlib import reload  \n",
    "import stellarflow as stf\n",
    "stf = reload(stf)\n",
    "\n",
    "## Settings\n",
    "AU, ED = stf.System._AU, stf.System._ED\n",
    "\n",
    "## Checking if GPU is used\n",
    "if len(tf.config.list_physical_devices('GPU')) == 0:\n",
    "    print(\"NO GPU FOUND!\")"
   ]
  },
  {
   "cell_type": "code",
   "execution_count": 35,
   "metadata": {},
   "outputs": [],
   "source": [
    "from tf_agents.environments import py_environment\n",
    "from tf_agents.environments import tf_environment\n",
    "from tf_agents.environments import tf_py_environment\n",
    "from tf_agents.environments import utils\n",
    "from tf_agents.specs import array_spec\n",
    "from tf_agents.environments import wrappers\n",
    "from tf_agents.environments import suite_gym\n",
    "from tf_agents.trajectories import time_step as ts"
   ]
  },
  {
   "cell_type": "code",
   "execution_count": 36,
   "metadata": {},
   "outputs": [],
   "source": [
    "class stfaEnv(py_environment.PyEnvironment):\n",
    "    ## TODO: Implement mass / propellant consumtion\n",
    "    def __init__(self, \n",
    "            mass: float,\n",
    "            initial_location: np.ndarray, \n",
    "            initial_velocity: np.ndarray, \n",
    "            target_point:   np.ndarray,\n",
    "            stfSystem:      stf.System,\n",
    "            target_point_relative:      bool=False,\n",
    "            target_point_relative_to:   int=None,\n",
    "            reward_factor_boost:           float=1.0,\n",
    "            reward_factor_target_distance: float=1.0):\n",
    "\n",
    "        ## Additional Information for spacecraft\n",
    "        self._m = mass\n",
    "        self._m_hist = [mass]\n",
    "        self._x = np.array(initial_location)\n",
    "        self._y = np.array(initial_velocity)\n",
    "        self._q = tf.constant(\n",
    "            np.concatenate(\n",
    "                [initial_location, initial_velocity], \n",
    "                axis=0\n",
    "            ), \n",
    "            dtype=tf.float32\n",
    "        )\n",
    "        self._reward_factor_boost = reward_factor_boost\n",
    "        self._reward_factor_target_distance = reward_factor_target_distance\n",
    "\n",
    "        ## Target Location for rewards\n",
    "        self._target = tf.constant(target_point, dtype=tf.float32)\n",
    "        self._target_point_relative = target_point_relative\n",
    "        if target_point_relative and target_point_relative_to is None:\n",
    "            print(\"No target point reference object ('target_point_relative_to') provided, using first object of System.\")\n",
    "            self._target_point_relative_to = 0\n",
    "        else:\n",
    "            self._target_point_relative_to = target_point_relative_to\n",
    "\n",
    "        ## Binding with stf.System:\n",
    "        stfSystem._Q = tf.Variable(\n",
    "            np.concatenate(\n",
    "                [stfSystem._Q.numpy(), np.expand_dims(self._q, axis=0)], \n",
    "                axis=0), \n",
    "            dtype=tf.float32\n",
    "        )\n",
    "        stfSystem._Q_hist = tf.cast(tf.expand_dims(stfSystem._Q, axis=0), dtype=tf.float32)\n",
    "        stfSystem._mask_reps, stfSystem._mask_len, stfSystem._mask = stfSystem._create_mask(stfSystem._Q.shape[0])\n",
    "        stfSystem.masses = np.concatenate([stfSystem.masses, [mass]], axis=0) # Maybe put mass to 0\n",
    "        stfSystem._M = stfSystem._reshape_masses(stfSystem.masses)\n",
    "        self._sys = stfSystem\n",
    "\n",
    "        ## State for max iterations\n",
    "        self.n_iter = 0\n",
    "\n",
    "        ## Providing for tfa-py_env\n",
    "        #  TODO: Better values for minimum and maximum\n",
    "        self._action_spec = array_spec.BoundedArraySpec(\n",
    "            shape=(3,), \n",
    "            dtype=np.float32, \n",
    "            minimum=-1e-31,\n",
    "            maximum=1e-31,\n",
    "            name=\"boost\"\n",
    "            )\n",
    "        self._observation_spec = {\n",
    "            \"q-vector\": array_spec.ArraySpec(self._sys._Q.shape, dtype=np.float32, name=\"q-vector\"),\n",
    "            \"target\": array_spec.ArraySpec((3,), dtype=np.float32, name=\"target\")\n",
    "        }\n",
    "        self._state = self._sys._Q.numpy()\n",
    "        self._initial_q = self._sys._Q\n",
    "        self._episode_ended = False\n",
    "\n",
    "        ## Variable for boost (Defy tf's-Error: \"AssertionError: Called a function referencing variables which have been deleted.\")\n",
    "        self._current_boost = tf.Variable(\n",
    "            tf.zeros_like(self._sys._Q, dtype=self._sys._Q.dtype)\n",
    "        ) \n",
    "\n",
    "\n",
    "    def action_spec(self):\n",
    "        return self._action_spec\n",
    "\n",
    "    def observation_spec(self):\n",
    "        return self._observation_spec\n",
    "\n",
    "    def _reset(self):\n",
    "        self._state = {\"q-vector\": self._initial_q.numpy(), \"target\": self._target.numpy()}\n",
    "        self._episode_ended = False\n",
    "        self._sys._reset()\n",
    "        return ts.restart(self._state)\n",
    "\n",
    "    def _compute_target_distance(self):\n",
    "        # TODO: Target point might need to be a function of steps, which needs to get hand designed for flexibility (e. g. Lagrange Points).\n",
    "        if self._target_point_relative:\n",
    "            target = self._target + self._sys._Q[self._target_point_relative_to, :3]\n",
    "            return target - self._q[:3]\n",
    "        else:\n",
    "            return self._target - self._q[:3]\n",
    "\n",
    "    # def _set_new_mass(self):\n",
    "    #     # TODO: Effect of boosting (propellant consumption)\n",
    "    #     self._m = self._m\n",
    "    #     self._m_hist = np.concatenate([self._m_hist, [self._m]], axis=0)\n",
    "\n",
    "    @tf.function\n",
    "    def _accelerations_plus_boost(self, Q):\n",
    "        return self._sys._acceleration(Q) + self._current_boost / self._m\n",
    "\n",
    "    def _step(self, action: np.ndarray):\n",
    "        self.n_iter += 1\n",
    "\n",
    "        if self._episode_ended:\n",
    "        # The last action ended the episode. Ignore the current action and start\n",
    "        # a new episode.\n",
    "            return self.reset()\n",
    "\n",
    "        # Defining boost\n",
    "        self._current_boost[-1, 3:].assign(\n",
    "            tf.constant(action, dtype=self._current_boost.dtype)\n",
    "        )\n",
    "        \n",
    "        # Performing a system step\n",
    "        Q = self._sys._Q\n",
    "        Q = self._sys._solver_rkf(Q, self._accelerations_plus_boost)\n",
    "        self._sys._Q_hist = tf.concat([self._sys._Q_hist, [Q]], axis=0)\n",
    "        self._sys._Q = Q\n",
    "        self._q = Q[-1]\n",
    "        # self._set_new_mass()\n",
    "        self._state = {\"q-vector\": self._sys._Q.numpy(), \"target\": self._target.numpy()}\n",
    "\n",
    "        # Bounding episode length\n",
    "        if self._episode_ended or self.n_iter > 1000:\n",
    "            reward = 0.0\n",
    "            return ts.termination(self._state, reward)\n",
    "\n",
    "        # Rewarding with boost length and distance to target\n",
    "        else:\n",
    "            distance = np.linalg.norm(self._compute_target_distance())\n",
    "            target = self._sys._Q[self._target_point_relative_to]\n",
    "            reward = -self._reward_factor_boost*np.linalg.norm(action) - self._reward_factor_target_distance*distance\n",
    "            return ts.transition(\n",
    "                self._state, reward=reward, discount=1.0\n",
    "            )\n"
   ]
  },
  {
   "cell_type": "markdown",
   "metadata": {},
   "source": [
    "## Testing"
   ]
  },
  {
   "cell_type": "code",
   "execution_count": 37,
   "metadata": {},
   "outputs": [],
   "source": [
    "X = np.array([\n",
    "    [0., 0.,    0.], # Sun \n",
    "    [1., 0.,    0.], # Earth\n",
    "    [0., 1.524, 0.]  # Mars\n",
    "])\n",
    "\n",
    "V = np.array([\n",
    "    [0.,           0., 0.],  # Sun \n",
    "    [0., 29290./AU*ED, 0.],  # Earth\n",
    "    [27070./AU*ED, 0., 0.],  # Mars\n",
    "])\n",
    "\n",
    "M = np.array([\n",
    "    1.,                # Sun\n",
    "    3.0025e-6,         # Earth\n",
    "    0.107 * 3.0025e-6  # Mars\n",
    "])\n",
    "\n",
    "# TODO: Smooth is way to high. Just for numerical stuff right now.\n",
    "SEM_system = stf.System(X, V, M, smooth=1e-10)"
   ]
  },
  {
   "cell_type": "code",
   "execution_count": 38,
   "metadata": {},
   "outputs": [],
   "source": [
    "env = stfaEnv(mass=1e-28, initial_location=[1.1, 0., 0.], initial_velocity=[0., 0.01, 0.], target_point=[2., 0., 0.], stfSystem=SEM_system)"
   ]
  },
  {
   "cell_type": "code",
   "execution_count": 39,
   "metadata": {},
   "outputs": [],
   "source": [
    "fixed_boost = 1e-32*np.array([1., 0., 0.])"
   ]
  },
  {
   "cell_type": "code",
   "execution_count": 40,
   "metadata": {},
   "outputs": [],
   "source": [
    "from tf_agents.policies import random_py_policy\n",
    "\n",
    "time_step_spec = env.time_step_spec()\n",
    "action_spec = env.action_spec()\n",
    "\n",
    "rand_py_policy = random_py_policy.RandomPyPolicy(\n",
    "    time_step_spec=time_step_spec,\n",
    "    action_spec=action_spec\n",
    ")"
   ]
  },
  {
   "cell_type": "code",
   "execution_count": 41,
   "metadata": {},
   "outputs": [],
   "source": [
    "time_step = env._reset()\n",
    "for _ in range(300):\n",
    "    action = rand_py_policy.action(time_step).action\n",
    "    time_step = env._step(action)"
   ]
  },
  {
   "cell_type": "code",
   "execution_count": 42,
   "metadata": {},
   "outputs": [
    {
     "data": {
      "image/png": "[encoded data removed]",
      "text/plain": [
       "<Figure size 500x500 with 1 Axes>"
      ]
     },
     "metadata": {},
     "output_type": "display_data"
    }
   ],
   "source": [
    "SEM_system.plot_history_2d()"
   ]
  },
  {
   "cell_type": "code",
   "execution_count": 43,
   "metadata": {},
   "outputs": [],
   "source": [
    "utils.validate_py_environment(env, episodes=5)"
   ]
  },
  {
   "cell_type": "markdown",
   "metadata": {},
   "source": [
    "## Trying to make the env a tf_env"
   ]
  },
  {
   "cell_type": "code",
   "execution_count": 44,
   "metadata": {},
   "outputs": [],
   "source": [
    "del env\n",
    "del SEM_system"
   ]
  },
  {
   "cell_type": "code",
   "execution_count": 45,
   "metadata": {},
   "outputs": [
    {
     "name": "stdout",
     "output_type": "stream",
     "text": [
      "True\n",
      "TimeStep Specs: TimeStep(\n",
      "{'discount': BoundedTensorSpec(shape=(), dtype=tf.float32, name='discount', minimum=array(0., dtype=float32), maximum=array(1., dtype=float32)),\n",
      " 'observation': {'q-vector': TensorSpec(shape=(4, 6), dtype=tf.float32, name='q-vector'),\n",
      "                 'target': TensorSpec(shape=(3,), dtype=tf.float32, name='target')},\n",
      " 'reward': TensorSpec(shape=(), dtype=tf.float32, name='reward'),\n",
      " 'step_type': TensorSpec(shape=(), dtype=tf.int32, name='step_type')})\n",
      "Action Specs: BoundedTensorSpec(shape=(3,), dtype=tf.float32, name='boost', minimum=array(-1.e-31, dtype=float32), maximum=array(1.e-31, dtype=float32))\n"
     ]
    }
   ],
   "source": [
    "SEM_system = stf.System(X, V, M)\n",
    "env = stfaEnv(mass=1e-28, initial_location=[1.1, 0., 0.], initial_velocity=[0., 0.01, 0.], target_point=[2., 0., 0.], stfSystem=SEM_system)\n",
    "tf_env = tf_py_environment.TFPyEnvironment(env)\n",
    "print(isinstance(tf_env, tf_environment.TFEnvironment))\n",
    "print(\"TimeStep Specs:\", tf_env.time_step_spec())\n",
    "print(\"Action Specs:\", tf_env.action_spec())"
   ]
  },
  {
   "cell_type": "code",
   "execution_count": 46,
   "metadata": {},
   "outputs": [],
   "source": [
    "from tf_agents.policies import random_tf_policy\n",
    "\n",
    "time_step_spec = tf_env.time_step_spec()\n",
    "action_spec    = tf_env.action_spec()\n",
    "\n",
    "rand_tf_policy = random_tf_policy.RandomTFPolicy(\n",
    "    time_step_spec=time_step_spec,\n",
    "    action_spec=action_spec\n",
    ")"
   ]
  },
  {
   "cell_type": "code",
   "execution_count": 47,
   "metadata": {},
   "outputs": [],
   "source": [
    "time_step = tf_env._reset()\n",
    "for _ in range(300):\n",
    "    action = rand_tf_policy.action(time_step).action\n",
    "    time_step = tf_env._step([action])"
   ]
  },
  {
   "cell_type": "code",
   "execution_count": 48,
   "metadata": {},
   "outputs": [
    {
     "data": {
      "image/png": "[encoded data removed]",
      "text/plain": [
       "<Figure size 500x500 with 1 Axes>"
      ]
     },
     "metadata": {},
     "output_type": "display_data"
    }
   ],
   "source": [
    "SEM_system.plot_history_2d()"
   ]
  }
 ],
 "metadata": {
  "kernelspec": {
   "display_name": "Python 3.10.4 ('tfa-gpu')",
   "language": "python",
   "name": "python3"
  },
  "language_info": {
   "codemirror_mode": {
    "name": "ipython",
    "version": 3
   },
   "file_extension": ".py",
   "mimetype": "text/x-python",
   "name": "python",
   "nbconvert_exporter": "python",
   "pygments_lexer": "ipython3",
   "version": "3.10.4"
  },
  "orig_nbformat": 4,
  "vscode": {
   "interpreter": {
    "hash": "fdc28786647f1dee919f363d51b8389bceae882853328a0ce8271b28d8b29113"
   }
  }
 },
 "nbformat": 4,
 "nbformat_minor": 2
}
