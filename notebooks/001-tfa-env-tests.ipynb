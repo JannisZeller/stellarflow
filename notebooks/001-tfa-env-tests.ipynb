{
 "cells": [
  {
   "cell_type": "markdown",
   "metadata": {},
   "source": [
    "# 001 Tests on how to extend the stellarflow system to a `tf-agents` compatible RL-Env.\n",
    "\n",
    "Inspiration: https://towardsdatascience.com/creating-a-custom-environment-for-tensorflow-agent-tic-tac-toe-example-b66902f73059"
   ]
  },
  {
   "cell_type": "code",
   "execution_count": 1,
   "metadata": {},
   "outputs": [],
   "source": [
    "## Imports\n",
    "import numpy as np\n",
    "import tensorflow as tf\n",
    "\n",
    "## Sys-Path\n",
    "import sys\n",
    "if \"..\\\\\" not in sys.path: sys.path.append(\"..\\\\\")\n",
    "\n",
    "## Import custom modules\n",
    "from importlib import reload  \n",
    "\n",
    "from system import nBodySystem as nbs\n",
    "nbs = reload(nbs)\n",
    "nBodySystem = nbs.nBodySystem\n",
    "\n",
    "from env import stellarEnv as ste\n",
    "ste = reload(ste)\n",
    "stellarEnv = ste.stellarEnv\n",
    "\n",
    "## Settings\n",
    "AU, ED = nBodySystem._AU, nBodySystem._ED\n",
    "\n",
    "## Checking if GPU is used\n",
    "if len(tf.config.list_physical_devices('GPU')) == 0:\n",
    "    print(\"NO GPU FOUND!\")"
   ]
  },
  {
   "cell_type": "code",
   "execution_count": 2,
   "metadata": {},
   "outputs": [],
   "source": [
    "from tf_agents.environments import py_environment\n",
    "from tf_agents.environments import tf_environment\n",
    "from tf_agents.environments import tf_py_environment\n",
    "from tf_agents.environments import utils\n",
    "from tf_agents.specs import array_spec\n",
    "from tf_agents.environments import wrappers\n",
    "from tf_agents.environments import suite_gym\n",
    "from tf_agents.trajectories import time_step as ts"
   ]
  },
  {
   "cell_type": "markdown",
   "metadata": {},
   "source": [
    "## Testing"
   ]
  },
  {
   "cell_type": "code",
   "execution_count": 3,
   "metadata": {},
   "outputs": [],
   "source": [
    "X = np.array([\n",
    "    [0., 0.,    0.], # Sun \n",
    "    [1., 0.,    0.], # Earth\n",
    "    [0., 1.524, 0.]  # Mars\n",
    "])\n",
    "\n",
    "V = np.array([\n",
    "    [0.,           0., 0.],  # Sun \n",
    "    [0., 29290./AU*ED, 0.],  # Earth\n",
    "    [27070./AU*ED, 0., 0.],  # Mars\n",
    "])\n",
    "\n",
    "M = np.array([\n",
    "    1.,                # Sun\n",
    "    3.0025e-6,         # Earth\n",
    "    0.107 * 3.0025e-6  # Mars\n",
    "])"
   ]
  },
  {
   "cell_type": "markdown",
   "metadata": {},
   "source": [
    "## Trying to make the env a tf_env"
   ]
  },
  {
   "cell_type": "code",
   "execution_count": 4,
   "metadata": {},
   "outputs": [
    {
     "name": "stdout",
     "output_type": "stream",
     "text": [
      "True\n",
      "TimeStep Specs: TimeStep(\n",
      "{'discount': BoundedTensorSpec(shape=(), dtype=tf.float32, name='discount', minimum=array(0., dtype=float32), maximum=array(1., dtype=float32)),\n",
      " 'observation': {'q-vector': TensorSpec(shape=(4, 6), dtype=tf.float32, name='q-vector'),\n",
      "                 'target': TensorSpec(shape=(3,), dtype=tf.float32, name='target')},\n",
      " 'reward': TensorSpec(shape=(), dtype=tf.float32, name='reward'),\n",
      " 'step_type': TensorSpec(shape=(), dtype=tf.int32, name='step_type')})\n",
      "Action Specs: BoundedTensorSpec(shape=(3,), dtype=tf.float32, name='boost', minimum=array(-1.e-31, dtype=float32), maximum=array(1.e-31, dtype=float32))\n"
     ]
    }
   ],
   "source": [
    "SEM_system = nBodySystem(X, V, M)\n",
    "env = stellarEnv(mass=1e-28, initial_location=[1.1, 0., 0.], initial_velocity=[0., 0.01, 0.], target_point=[2., 0., 0.], stfSystem=SEM_system)\n",
    "tf_env = tf_py_environment.TFPyEnvironment(env)\n",
    "print(isinstance(tf_env, tf_environment.TFEnvironment))\n",
    "print(\"TimeStep Specs:\", tf_env.time_step_spec())\n",
    "print(\"Action Specs:\", tf_env.action_spec())"
   ]
  },
  {
   "cell_type": "code",
   "execution_count": 5,
   "metadata": {},
   "outputs": [],
   "source": [
    "from tf_agents.policies import random_tf_policy\n",
    "\n",
    "time_step_spec = tf_env.time_step_spec()\n",
    "action_spec    = tf_env.action_spec()\n",
    "\n",
    "rand_tf_policy = random_tf_policy.RandomTFPolicy(\n",
    "    time_step_spec=time_step_spec,\n",
    "    action_spec=action_spec\n",
    ")"
   ]
  },
  {
   "cell_type": "code",
   "execution_count": 6,
   "metadata": {},
   "outputs": [],
   "source": [
    "time_step = tf_env._reset()\n",
    "for _ in range(300):\n",
    "    action = rand_tf_policy.action(time_step).action\n",
    "    time_step = tf_env._step([action])"
   ]
  },
  {
   "cell_type": "code",
   "execution_count": 7,
   "metadata": {},
   "outputs": [
    {
     "data": {
      "image/png": "[encoded data removed]",
      "text/plain": [
       "<Figure size 500x500 with 1 Axes>"
      ]
     },
     "metadata": {},
     "output_type": "display_data"
    }
   ],
   "source": [
    "SEM_system.plot_history_2d()"
   ]
  }
 ],
 "metadata": {
  "kernelspec": {
   "display_name": "tfa",
   "language": "python",
   "name": "python3"
  },
  "language_info": {
   "codemirror_mode": {
    "name": "ipython",
    "version": 3
   },
   "file_extension": ".py",
   "mimetype": "text/x-python",
   "name": "python",
   "nbconvert_exporter": "python",
   "pygments_lexer": "ipython3",
   "version": "3.10.9"
  },
  "orig_nbformat": 4,
  "vscode": {
   "interpreter": {
    "hash": "db0346a919250aa9bc9230e066b137e0d1c843c2e9cf15e766bbbc758d668971"
   }
  }
 },
 "nbformat": 4,
 "nbformat_minor": 2
}
