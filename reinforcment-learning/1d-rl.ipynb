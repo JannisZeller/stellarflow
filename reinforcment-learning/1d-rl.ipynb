{
 "cells": [
  {
   "cell_type": "markdown",
   "metadata": {},
   "source": [
    "## 1 Dim RL Agent\n",
    "\n",
    "-----\n"
   ]
  },
  {
   "cell_type": "code",
   "execution_count": 1,
   "metadata": {},
   "outputs": [],
   "source": [
    "import numpy as np\n",
    "import tensorflow as tf\n",
    "if len(tf.config.list_physical_devices('GPU')) == 0:\n",
    "    print(\"NO GPU FOUND!\")\n",
    "\n",
    "import src"
   ]
  },
  {
   "cell_type": "markdown",
   "metadata": {},
   "source": [
    "Target"
   ]
  },
  {
   "cell_type": "code",
   "execution_count": 2,
   "metadata": {},
   "outputs": [],
   "source": [
    "target = tf.constant([0, 0, 0.1], dtype=tf.float32)"
   ]
  },
  {
   "cell_type": "markdown",
   "metadata": {},
   "source": [
    "Defining initial time and state:"
   ]
  },
  {
   "cell_type": "code",
   "execution_count": 3,
   "metadata": {},
   "outputs": [],
   "source": [
    "from astropy.time import Time\n",
    "time = Time(\"2000-01-01 00:00\", scale=\"utc\")\n",
    "walker_name = \"test\"\n",
    "\n",
    "walker_position = np.array([0, 0, 0])\n",
    "walker_velocity = np.array([0, 0, 0])\n",
    "\n",
    "# walker_position, walker_velocity = src.get_body_state(\"mars\", time).values()"
   ]
  },
  {
   "cell_type": "markdown",
   "metadata": {},
   "source": [
    "#### Hyperparameters and Environment\n",
    "------"
   ]
  },
  {
   "cell_type": "code",
   "execution_count": 4,
   "metadata": {},
   "outputs": [],
   "source": [
    "agent_type = [\"DQN\", \"PPO\"][1]\n",
    "dqn_batch_size = 32\n",
    "env_batch_size = 1\n",
    "\n",
    "max_boost = 1e-4\n",
    "reward_per_step = - 1.\n",
    "reward_factor_boost = 0.  # 0.1 / max_boost\n",
    "reward_factor_target_distance = - 10.\n",
    "reward_per_step_near_target = 1.\n",
    "near_target_window = 0.01\n",
    "class Env(\n",
    "    src.env.WalkerSystemEnv,\n",
    "    src.env.OneDimDiscreteAction,               # src.env: ContinuousAction, DiscreteAction, OneDimDiscreteAction\n",
    "    src.env.StateAndDiffObservation,            # src.env: StateAndDiffObservation, GravityObservation, AllPositionsObservation\n",
    "    src.env.DistanceAndTargetReached            # src.env: ContinuousDistance, TargetReached, DistanceAndTargetReached\n",
    "): ...\n",
    "\n",
    "epsilon_greedy_p = 0.1 # DQN\n",
    "fc_layer_params = (64, 64)\n",
    "learning_rate = 1e-4\n",
    "\n",
    "train_steps = 2000\n",
    "episodes_per_train_step = 1\n",
    "episodes_per_eval_step = 1\n",
    "\n",
    "log_interval = 50\n",
    "\n",
    "max_episode_length = 50\n",
    "system_step_size = 2\n",
    "\n",
    "if agent_type in [\"PPO\"]:\n",
    "    replay_buffer_capacity = (\n",
    "        episodes_per_train_step * \n",
    "        env_batch_size * \n",
    "        max_episode_length \n",
    "        + 10\n",
    "    )\n",
    "if agent_type in [\"DQN\"]:\n",
    "    replay_buffer_capacity = 10000"
   ]
  },
  {
   "cell_type": "code",
   "execution_count": 5,
   "metadata": {},
   "outputs": [],
   "source": [
    "from tf_agents.environments import ActionClipWrapper\n",
    "from tf_agents.networks.actor_distribution_network import ActorDistributionNetwork\n",
    "from tf_agents.networks.value_network import ValueNetwork\n",
    "from tf_agents.agents import PPOAgent\n",
    "from tf_agents.agents import DqnAgent\n",
    "from tf_agents.networks.q_network import QNetwork\n",
    "from tf_agents.metrics.tf_metrics import AverageReturnMetric\n",
    "from tf_agents.replay_buffers.tf_uniform_replay_buffer import TFUniformReplayBuffer\n",
    "from tf_agents.drivers.dynamic_episode_driver import DynamicEpisodeDriver\n",
    "from tf_agents.utils.common import function\n",
    "\n",
    "from keras.optimizers import Adam\n",
    "from keras import layers"
   ]
  },
  {
   "cell_type": "markdown",
   "metadata": {},
   "source": [
    "Batched Environment for Training"
   ]
  },
  {
   "cell_type": "code",
   "execution_count": 6,
   "metadata": {},
   "outputs": [],
   "source": [
    "system = src.SunSystem([\"earth\"], initial_time=time, add_sun=False)\n",
    "system.set_smooth = 1e-9\n",
    "walker = src.Walker(walker_position, walker_velocity, mass=1., name=walker_name)\n",
    "solver = src.Solver()"
   ]
  },
  {
   "cell_type": "code",
   "execution_count": 7,
   "metadata": {},
   "outputs": [],
   "source": [
    "env = Env(\n",
    "    walker, system, solver, target, \n",
    "    max_iters=max_episode_length, \n",
    "    step_size=system_step_size,\n",
    "    reward_factor_boost=reward_factor_boost,\n",
    "    reward_per_step=reward_per_step,\n",
    "    reward_factor_target_distance=reward_factor_target_distance,\n",
    "    reward_per_step_near_target=reward_per_step_near_target,\n",
    "    max_boost=max_boost,\n",
    ")\n",
    "\n",
    "tf_env = src.env_wrappers.tfpy_env_wrapper(env)"
   ]
  },
  {
   "cell_type": "markdown",
   "metadata": {},
   "source": [
    "Easily Acessible Eval Env for evaluation:"
   ]
  },
  {
   "cell_type": "code",
   "execution_count": 8,
   "metadata": {},
   "outputs": [
    {
     "name": "stdout",
     "output_type": "stream",
     "text": [
      "Observation Spec:\n",
      "{'walker-state': TensorSpec(shape=(6,), dtype=tf.float32, name='walker-state'), 'diff-to-target': TensorSpec(shape=(3,), dtype=tf.float32, name='target')}\n",
      "\n",
      "Action Spec:\n",
      "BoundedTensorSpec(shape=(), dtype=tf.int32, name='boost-direction', minimum=array(0), maximum=array(2))\n",
      "\n",
      "Batch Size:\n",
      "1\n"
     ]
    }
   ],
   "source": [
    "print('Observation Spec:')\n",
    "print(tf_env.observation_spec())\n",
    "\n",
    "print('\\nAction Spec:')\n",
    "print(tf_env.action_spec())\n",
    "\n",
    "print('\\nBatch Size:')\n",
    "print(tf_env.batch_size)"
   ]
  },
  {
   "cell_type": "markdown",
   "metadata": {},
   "source": [
    "#### Agent and Policies\n",
    "-----"
   ]
  },
  {
   "cell_type": "code",
   "execution_count": 9,
   "metadata": {},
   "outputs": [],
   "source": [
    "optimizer = Adam(learning_rate=learning_rate)\n",
    "\n",
    "obs_specs = tf_env.observation_spec()\n",
    "\n",
    "pre_layers = {k: layers.Flatten() for k in obs_specs}\n",
    "pre_combiner = layers.Concatenate(axis=-1)"
   ]
  },
  {
   "cell_type": "code",
   "execution_count": 10,
   "metadata": {},
   "outputs": [],
   "source": [
    "if agent_type == \"PPO\":\n",
    "\n",
    "    actor_net = ActorDistributionNetwork(\n",
    "        input_tensor_spec=obs_specs,\n",
    "        output_tensor_spec=tf_env.action_spec(),\n",
    "        preprocessing_layers=pre_layers,    # Must be of the same type (dict in this case) as `input_tensor_spec`\n",
    "        preprocessing_combiner=pre_combiner,\n",
    "        fc_layer_params=fc_layer_params\n",
    "    )\n",
    "\n",
    "    value_net = ValueNetwork(\n",
    "        obs_specs,\n",
    "        preprocessing_layers=pre_layers,\n",
    "        preprocessing_combiner=pre_combiner,\n",
    "        fc_layer_params=fc_layer_params\n",
    "    )\n",
    "\n",
    "    tf_agent = PPOAgent(\n",
    "        tf_env.time_step_spec(),\n",
    "        tf_env.action_spec(),\n",
    "        actor_net=actor_net,\n",
    "        value_net=value_net,\n",
    "        optimizer=optimizer,\n",
    "    )\n",
    "\n",
    "    tf_agent.initialize()"
   ]
  },
  {
   "cell_type": "code",
   "execution_count": 11,
   "metadata": {},
   "outputs": [],
   "source": [
    "if agent_type == \"DQN\":\n",
    "    # https://www.tensorflow.org/agents/tutorials/1_dqn_tutorial\n",
    "    from tf_agents.utils.common import element_wise_squared_loss\n",
    "    \n",
    "    q_net = QNetwork(\n",
    "        input_tensor_spec=obs_specs,\n",
    "        action_spec=tf_env.action_spec(),\n",
    "        preprocessing_layers=pre_layers,\n",
    "        preprocessing_combiner=pre_combiner,\n",
    "        fc_layer_params=fc_layer_params,\n",
    "    )\n",
    "    \n",
    "    tf_agent = DqnAgent(\n",
    "        tf_env.time_step_spec(),\n",
    "        tf_env.action_spec(),\n",
    "        q_network=q_net,\n",
    "        epsilon_greedy=epsilon_greedy_p,\n",
    "        td_errors_loss_fn=element_wise_squared_loss,\n",
    "        optimizer=optimizer\n",
    "    )\n",
    "\n",
    "    tf_agent.initialize()"
   ]
  },
  {
   "cell_type": "markdown",
   "metadata": {},
   "source": [
    "#### Metrics\n",
    "-----"
   ]
  },
  {
   "cell_type": "code",
   "execution_count": 12,
   "metadata": {},
   "outputs": [],
   "source": [
    "trn_return_observer = AverageReturnMetric(batch_size=tf_env.batch_size)\n",
    "evl_return_observer = AverageReturnMetric(batch_size=tf_env.batch_size)"
   ]
  },
  {
   "cell_type": "markdown",
   "metadata": {},
   "source": [
    "#### Replay Buffer\n",
    "\n",
    "-----"
   ]
  },
  {
   "cell_type": "code",
   "execution_count": 13,
   "metadata": {},
   "outputs": [],
   "source": [
    "replay_buffer = TFUniformReplayBuffer(\n",
    "    data_spec=tf_agent.collect_data_spec,\n",
    "    batch_size=tf_env.batch_size,\n",
    "    max_length=replay_buffer_capacity\n",
    ")"
   ]
  },
  {
   "cell_type": "markdown",
   "metadata": {},
   "source": [
    "#### Drivers\n",
    "\n",
    "-----"
   ]
  },
  {
   "cell_type": "code",
   "execution_count": 14,
   "metadata": {},
   "outputs": [],
   "source": [
    "trn_driver = DynamicEpisodeDriver(\n",
    "    tf_env,\n",
    "    tf_agent.collect_policy,\n",
    "    observers=[replay_buffer.add_batch, trn_return_observer],\n",
    "    num_episodes=episodes_per_train_step\n",
    ")\n",
    "\n",
    "evl_driver = DynamicEpisodeDriver(\n",
    "    tf_env,\n",
    "    tf_agent.policy,\n",
    "    observers=[evl_return_observer],\n",
    "    num_episodes=episodes_per_eval_step\n",
    ")"
   ]
  },
  {
   "cell_type": "markdown",
   "metadata": {},
   "source": [
    "#### Testing Setup\n",
    "\n",
    "----"
   ]
  },
  {
   "cell_type": "code",
   "execution_count": 15,
   "metadata": {},
   "outputs": [],
   "source": [
    "initial_time_step = tf_env.reset()\n",
    "_ = evl_driver.run(initial_time_step)\n",
    "\n",
    "initial_time_step = tf_env.reset()\n",
    "for _ in range(max_episode_length):\n",
    "    action = 0\n",
    "    time_step = tf_env.step(action)"
   ]
  },
  {
   "cell_type": "code",
   "execution_count": 16,
   "metadata": {},
   "outputs": [
    {
     "data": {
      "application/vnd.plotly.v1+json": {
       "config": {
        "plotlyServerURL": "https://plot.ly"
       },
       "data": [
        {
         "hovertemplate": "x=%{x}<br>y=%{y}<br>z=%{z}<br>size=%{marker.size}<extra></extra>",
         "legendgroup": "",
         "marker": {
          "color": "purple",
          "size": [
           1
          ],
          "sizemode": "area",
          "sizeref": 0.0025,
          "symbol": "circle"
         },
         "mode": "markers",
         "name": "",
         "scene": "scene",
         "showlegend": false,
         "type": "scatter3d",
         "x": [
          0
         ],
         "y": [
          0
         ],
         "z": [
          0.10000000149011612
         ]
        },
        {
         "hovertemplate": "body=earth<br>x=%{x}<br>y=%{y}<br>z=%{z}<extra></extra>",
         "legendgroup": "earth",
         "line": {
          "color": "#636efa",
          "dash": "solid"
         },
         "marker": {
          "symbol": "circle"
         },
         "mode": "lines",
         "name": "earth",
         "scene": "scene",
         "showlegend": true,
         "type": "scatter3d",
         "x": [
          -0.17567656934261322,
          -0.2100236713886261,
          -0.2441209852695465,
          -0.2779237627983093,
          -0.3113875091075897,
          -0.34446844458580017,
          -0.37712377309799194,
          -0.40931224822998047,
          -0.440994530916214,
          -0.4721335172653198,
          -0.5026941299438477,
          -0.5326423645019531,
          -0.5619438886642456,
          -0.5905635356903076,
          -0.6184654235839844,
          -0.6456139087677002,
          -0.6719738841056824,
          -0.6975108981132507,
          -0.7221918106079102,
          -0.7459848523139954,
          -0.7688601613044739,
          -0.7907903790473938,
          -0.8117505311965942,
          -0.8317185044288635,
          -0.8506744503974915,
          -0.868599534034729,
          -0.8854752779006958,
          -0.9012826681137085,
          -0.9160028100013733,
          -0.9296173453330994,
          -0.9421088695526123,
          -0.9534614682197571,
          -0.9636607766151428,
          -0.9726940989494324,
          -0.9805514216423035,
          -0.9872252941131592,
          -0.9927112460136414,
          -0.9970076680183411,
          -1.0001145601272583,
          -1.0020328760147095,
          -1.002764105796814,
          -1.0023090839385986,
          -1.000669002532959,
          -0.9978456497192383,
          -0.9938421845436096,
          -0.9886628985404968,
          -0.9823138117790222,
          -0.9748026728630066,
          -0.9661396741867065,
          -0.9563378691673279,
          -0.9454131126403809
         ],
         "y": [
          0.9659890532493591,
          0.9593546390533447,
          0.9515174627304077,
          0.942486584186554,
          0.9322735667228699,
          0.9208922982215881,
          0.9083592295646667,
          0.8946929574012756,
          0.8799137473106384,
          0.8640429377555847,
          0.8471020460128784,
          0.8291118144989014,
          0.8100924491882324,
          0.7900649309158325,
          0.7690519690513611,
          0.7470782399177551,
          0.7241705060005188,
          0.7003574371337891,
          0.6756699681282043,
          0.6501407027244568,
          0.62380450963974,
          0.5966973900794983,
          0.568856418132782,
          0.5403187870979309,
          0.5111208558082581,
          0.48129802942276,
          0.45088472962379456,
          0.41991570591926575,
          0.3884267508983612,
          0.3564552068710327,
          0.3240397274494171,
          0.29122039675712585,
          0.2580384910106659,
          0.22453667223453522,
          0.190758615732193,
          0.15674865245819092,
          0.122550830245018,
          0.08820817619562149,
          0.05376209691166878,
          0.019252333790063858,
          -0.015282564796507359,
          -0.04980435594916344,
          -0.08427435904741287,
          -0.11865313351154327,
          -0.15290051698684692,
          -0.18697576224803925,
          -0.2208375632762909,
          -0.25444409251213074,
          -0.2877531349658966,
          -0.3207227289676666,
          -0.353312224149704
         ],
         "z": [
          0.00002149350621039048,
          0.00002288799441885203,
          0.00002498823778296355,
          0.000027650236006593332,
          0.00003067478246521205,
          0.00003382885915925726,
          0.00003687653224915266,
          0.00003961824404541403,
          0.00004193782660877332,
          0.00004385869033285417,
          0.00004557728243526071,
          0.000047416655434062704,
          0.000049704303819453344,
          0.00005266203879727982,
          0.000056374545238213614,
          0.000060814389144070446,
          0.00006587210373254493,
          0.000071374983235728,
          0.00007710260251769796,
          0.00008280962356366217,
          0.0000882635940797627,
          0.00009329383465228602,
          0.00009783852874534205,
          0.00010197969822911546,
          0.00010594581544864923,
          0.00011005390842910856,
          0.00011460161476861686,
          0.00011977423127973452,
          0.00012561881158035249,
          0.00013207121810410172,
          0.00013899146870244294,
          0.00014618640125263482,
          0.00015342480037361383,
          0.0001604601857252419,
          0.00016707397298887372,
          0.00017313362332060933,
          0.00017863995162770152,
          0.00018373868078924716,
          0.00018868801998905838,
          0.00019378714205231518,
          0.00019928721303585917,
          0.0002053248608717695,
          0.00021190685220062733,
          0.00021893615485168993,
          0.00022624769189860672,
          0.00023363404034171253,
          0.00024086212215479463,
          0.0002476958616171032,
          0.0002539418637752533,
          0.00025951446150429547,
          0.00026448225253261626
         ]
        },
        {
         "hovertemplate": "body=test<br>x=%{x}<br>y=%{y}<br>z=%{z}<extra></extra>",
         "legendgroup": "test",
         "line": {
          "color": "#EF553B",
          "dash": "solid"
         },
         "marker": {
          "symbol": "circle"
         },
         "mode": "lines",
         "name": "test",
         "scene": "scene",
         "showlegend": true,
         "type": "scatter3d",
         "x": [
          0,
          -3.299397977052365e-10,
          -1.319759190820946e-9,
          -2.96945734667986e-9,
          -5.279031434213266e-9,
          -8.248473903904596e-9,
          -1.187776987876532e-8,
          -1.616689182526443e-8,
          -2.1115793558124096e-8,
          -2.6724404023070747e-8,
          -3.2992623744121374e-8,
          -3.992030883637199e-8,
          -4.750727100599761e-8,
          -5.5753254457613366e-8,
          -6.465793944698817e-8,
          -7.422092807018998e-8,
          -8.444171584187643e-8,
          -9.531969169529475e-8,
          -1.0685412377142711e-7,
          -1.1904413810270853e-7,
          -1.318886972967448e-7,
          -1.4538660764173983e-7,
          -1.595364835793589e-7,
          -1.743367192830192e-7,
          -1.8978549576331716e-7,
          -2.0588073823546438e-7,
          -2.2262011611928756e-7,
          -2.400010146175191e-7,
          -2.5802054892665183e-7,
          -2.7667547897181066e-7,
          -2.959622520393168e-7,
          -3.1587694593326887e-7,
          -3.364153258189617e-7,
          -3.5757270211433934e-7,
          -3.7934407259854197e-7,
          -4.01723980303359e-7,
          -4.2470659877835715e-7,
          -4.4828564682575234e-7,
          -4.72454416922119e-7,
          -4.972058036400995e-7,
          -5.225322752266948e-7,
          -5.484258736032643e-7,
          -5.748782427872356e-7,
          -6.018806288921041e-7,
          -6.294237664405955e-7,
          -6.5749816258176e-7,
          -6.860938697172969e-7,
          -7.152005991883925e-7,
          -7.448077212757198e-7,
          -7.749043788862764e-7,
          -8.054793738665467e-7
         ],
         "y": [
          0,
          1.8142329860637574e-9,
          7.2569319442550295e-9,
          1.6328090879369483e-8,
          2.9027697578953848e-8,
          4.535571207497924e-8,
          6.53120508786742e-8,
          8.889655589428003e-8,
          1.1610897132641185e-7,
          1.469489205874197e-7,
          1.8141584234854236e-7,
          2.1950896211819781e-7,
          2.6122722829313716e-7,
          3.065692339987436e-7,
          3.5553324551074184e-7,
          4.0811704593579634e-7,
          4.6431787836809235e-7,
          5.241323606242076e-7,
          5.875564852431125e-7,
          6.545854489559133e-7,
          7.252135674207238e-7,
          7.994343036443752e-7,
          8.772399269219022e-7,
          9.586216265233816e-7,
          0.0000010435694548505126,
          0.000001132072043219523,
          0.0000012241165450177505,
          0.000001319688635703642,
          0.000001418772171746241,
          0.0000015213496453725384,
          0.0000016274013887596084,
          0.0000017369059150951216,
          0.0000018498398048905074,
          0.0000019661774786072783,
          0.000002085891310343868,
          0.0000022089511730882805,
          0.0000023353252345259534,
          0.000002464978706484544,
          0.000002597874981802306,
          0.0000027339749522070633,
          0.000002873237235689885,
          0.0000030156179491314106,
          0.0000031610711630492005,
          0.0000033095484468503855,
          0.000003460999323579017,
          0.000003615371269916068,
          0.0000037726097161794314,
          0.000003932658273697598,
          0.000004095458280062303,
          0.000004260950390744256,
          0.000004429072760103736
         ],
         "z": [
          0,
          0.00019999999494757503,
          0.000800000037997961,
          0.0017999999690800905,
          0.0031999999191612005,
          0.004999999888241291,
          0.007199999876320362,
          0.009800000116229057,
          0.012800000607967377,
          0.016200000420212746,
          0.019999999552965164,
          0.02419999986886978,
          0.02879999950528145,
          0.033799998462200165,
          0.03919999673962593,
          0.044999994337558746,
          0.05119999498128891,
          0.05779999494552612,
          0.06479999423027039,
          0.0721999928355217,
          0.07999999076128006,
          0.08819998800754547,
          0.09679998457431793,
          0.10579998046159744,
          0.115199975669384,
          0.12499997019767761,
          0.13519996404647827,
          0.14579996466636658,
          0.15679995715618134,
          0.16819995641708374,
          0.1799999475479126,
          0.1921999454498291,
          0.20479993522167206,
          0.21779993176460266,
          0.23119992017745972,
          0.24499991536140442,
          0.25919991731643677,
          0.2737998962402344,
          0.28879988193511963,
          0.30419987440109253,
          0.3199998736381531,
          0.3361998498439789,
          0.35279983282089233,
          0.36979982256889343,
          0.3871998190879822,
          0.4049997925758362,
          0.42319977283477783,
          0.44179975986480713,
          0.4607997536659241,
          0.4801997244358063,
          0.4999997019767761
         ]
        }
       ],
       "layout": {
        "scene": {
         "zaxis": {
          "nticks": 4
         }
        },
        "template": {
         "data": {
          "bar": [
           {
            "error_x": {
             "color": "#2a3f5f"
            },
            "error_y": {
             "color": "#2a3f5f"
            },
            "marker": {
             "line": {
              "color": "#E5ECF6",
              "width": 0.5
             },
             "pattern": {
              "fillmode": "overlay",
              "size": 10,
              "solidity": 0.2
             }
            },
            "type": "bar"
           }
          ],
          "barpolar": [
           {
            "marker": {
             "line": {
              "color": "#E5ECF6",
              "width": 0.5
             },
             "pattern": {
              "fillmode": "overlay",
              "size": 10,
              "solidity": 0.2
             }
            },
            "type": "barpolar"
           }
          ],
          "carpet": [
           {
            "aaxis": {
             "endlinecolor": "#2a3f5f",
             "gridcolor": "white",
             "linecolor": "white",
             "minorgridcolor": "white",
             "startlinecolor": "#2a3f5f"
            },
            "baxis": {
             "endlinecolor": "#2a3f5f",
             "gridcolor": "white",
             "linecolor": "white",
             "minorgridcolor": "white",
             "startlinecolor": "#2a3f5f"
            },
            "type": "carpet"
           }
          ],
          "choropleth": [
           {
            "colorbar": {
             "outlinewidth": 0,
             "ticks": ""
            },
            "type": "choropleth"
           }
          ],
          "contour": [
           {
            "colorbar": {
             "outlinewidth": 0,
             "ticks": ""
            },
            "colorscale": [
             [
              0,
              "#0d0887"
             ],
             [
              0.1111111111111111,
              "#46039f"
             ],
             [
              0.2222222222222222,
              "#7201a8"
             ],
             [
              0.3333333333333333,
              "#9c179e"
             ],
             [
              0.4444444444444444,
              "#bd3786"
             ],
             [
              0.5555555555555556,
              "#d8576b"
             ],
             [
              0.6666666666666666,
              "#ed7953"
             ],
             [
              0.7777777777777778,
              "#fb9f3a"
             ],
             [
              0.8888888888888888,
              "#fdca26"
             ],
             [
              1,
              "#f0f921"
             ]
            ],
            "type": "contour"
           }
          ],
          "contourcarpet": [
           {
            "colorbar": {
             "outlinewidth": 0,
             "ticks": ""
            },
            "type": "contourcarpet"
           }
          ],
          "heatmap": [
           {
            "colorbar": {
             "outlinewidth": 0,
             "ticks": ""
            },
            "colorscale": [
             [
              0,
              "#0d0887"
             ],
             [
              0.1111111111111111,
              "#46039f"
             ],
             [
              0.2222222222222222,
              "#7201a8"
             ],
             [
              0.3333333333333333,
              "#9c179e"
             ],
             [
              0.4444444444444444,
              "#bd3786"
             ],
             [
              0.5555555555555556,
              "#d8576b"
             ],
             [
              0.6666666666666666,
              "#ed7953"
             ],
             [
              0.7777777777777778,
              "#fb9f3a"
             ],
             [
              0.8888888888888888,
              "#fdca26"
             ],
             [
              1,
              "#f0f921"
             ]
            ],
            "type": "heatmap"
           }
          ],
          "heatmapgl": [
           {
            "colorbar": {
             "outlinewidth": 0,
             "ticks": ""
            },
            "colorscale": [
             [
              0,
              "#0d0887"
             ],
             [
              0.1111111111111111,
              "#46039f"
             ],
             [
              0.2222222222222222,
              "#7201a8"
             ],
             [
              0.3333333333333333,
              "#9c179e"
             ],
             [
              0.4444444444444444,
              "#bd3786"
             ],
             [
              0.5555555555555556,
              "#d8576b"
             ],
             [
              0.6666666666666666,
              "#ed7953"
             ],
             [
              0.7777777777777778,
              "#fb9f3a"
             ],
             [
              0.8888888888888888,
              "#fdca26"
             ],
             [
              1,
              "#f0f921"
             ]
            ],
            "type": "heatmapgl"
           }
          ],
          "histogram": [
           {
            "marker": {
             "pattern": {
              "fillmode": "overlay",
              "size": 10,
              "solidity": 0.2
             }
            },
            "type": "histogram"
           }
          ],
          "histogram2d": [
           {
            "colorbar": {
             "outlinewidth": 0,
             "ticks": ""
            },
            "colorscale": [
             [
              0,
              "#0d0887"
             ],
             [
              0.1111111111111111,
              "#46039f"
             ],
             [
              0.2222222222222222,
              "#7201a8"
             ],
             [
              0.3333333333333333,
              "#9c179e"
             ],
             [
              0.4444444444444444,
              "#bd3786"
             ],
             [
              0.5555555555555556,
              "#d8576b"
             ],
             [
              0.6666666666666666,
              "#ed7953"
             ],
             [
              0.7777777777777778,
              "#fb9f3a"
             ],
             [
              0.8888888888888888,
              "#fdca26"
             ],
             [
              1,
              "#f0f921"
             ]
            ],
            "type": "histogram2d"
           }
          ],
          "histogram2dcontour": [
           {
            "colorbar": {
             "outlinewidth": 0,
             "ticks": ""
            },
            "colorscale": [
             [
              0,
              "#0d0887"
             ],
             [
              0.1111111111111111,
              "#46039f"
             ],
             [
              0.2222222222222222,
              "#7201a8"
             ],
             [
              0.3333333333333333,
              "#9c179e"
             ],
             [
              0.4444444444444444,
              "#bd3786"
             ],
             [
              0.5555555555555556,
              "#d8576b"
             ],
             [
              0.6666666666666666,
              "#ed7953"
             ],
             [
              0.7777777777777778,
              "#fb9f3a"
             ],
             [
              0.8888888888888888,
              "#fdca26"
             ],
             [
              1,
              "#f0f921"
             ]
            ],
            "type": "histogram2dcontour"
           }
          ],
          "mesh3d": [
           {
            "colorbar": {
             "outlinewidth": 0,
             "ticks": ""
            },
            "type": "mesh3d"
           }
          ],
          "parcoords": [
           {
            "line": {
             "colorbar": {
              "outlinewidth": 0,
              "ticks": ""
             }
            },
            "type": "parcoords"
           }
          ],
          "pie": [
           {
            "automargin": true,
            "type": "pie"
           }
          ],
          "scatter": [
           {
            "fillpattern": {
             "fillmode": "overlay",
             "size": 10,
             "solidity": 0.2
            },
            "type": "scatter"
           }
          ],
          "scatter3d": [
           {
            "line": {
             "colorbar": {
              "outlinewidth": 0,
              "ticks": ""
             }
            },
            "marker": {
             "colorbar": {
              "outlinewidth": 0,
              "ticks": ""
             }
            },
            "type": "scatter3d"
           }
          ],
          "scattercarpet": [
           {
            "marker": {
             "colorbar": {
              "outlinewidth": 0,
              "ticks": ""
             }
            },
            "type": "scattercarpet"
           }
          ],
          "scattergeo": [
           {
            "marker": {
             "colorbar": {
              "outlinewidth": 0,
              "ticks": ""
             }
            },
            "type": "scattergeo"
           }
          ],
          "scattergl": [
           {
            "marker": {
             "colorbar": {
              "outlinewidth": 0,
              "ticks": ""
             }
            },
            "type": "scattergl"
           }
          ],
          "scattermapbox": [
           {
            "marker": {
             "colorbar": {
              "outlinewidth": 0,
              "ticks": ""
             }
            },
            "type": "scattermapbox"
           }
          ],
          "scatterpolar": [
           {
            "marker": {
             "colorbar": {
              "outlinewidth": 0,
              "ticks": ""
             }
            },
            "type": "scatterpolar"
           }
          ],
          "scatterpolargl": [
           {
            "marker": {
             "colorbar": {
              "outlinewidth": 0,
              "ticks": ""
             }
            },
            "type": "scatterpolargl"
           }
          ],
          "scatterternary": [
           {
            "marker": {
             "colorbar": {
              "outlinewidth": 0,
              "ticks": ""
             }
            },
            "type": "scatterternary"
           }
          ],
          "surface": [
           {
            "colorbar": {
             "outlinewidth": 0,
             "ticks": ""
            },
            "colorscale": [
             [
              0,
              "#0d0887"
             ],
             [
              0.1111111111111111,
              "#46039f"
             ],
             [
              0.2222222222222222,
              "#7201a8"
             ],
             [
              0.3333333333333333,
              "#9c179e"
             ],
             [
              0.4444444444444444,
              "#bd3786"
             ],
             [
              0.5555555555555556,
              "#d8576b"
             ],
             [
              0.6666666666666666,
              "#ed7953"
             ],
             [
              0.7777777777777778,
              "#fb9f3a"
             ],
             [
              0.8888888888888888,
              "#fdca26"
             ],
             [
              1,
              "#f0f921"
             ]
            ],
            "type": "surface"
           }
          ],
          "table": [
           {
            "cells": {
             "fill": {
              "color": "#EBF0F8"
             },
             "line": {
              "color": "white"
             }
            },
            "header": {
             "fill": {
              "color": "#C8D4E3"
             },
             "line": {
              "color": "white"
             }
            },
            "type": "table"
           }
          ]
         },
         "layout": {
          "annotationdefaults": {
           "arrowcolor": "#2a3f5f",
           "arrowhead": 0,
           "arrowwidth": 1
          },
          "autotypenumbers": "strict",
          "coloraxis": {
           "colorbar": {
            "outlinewidth": 0,
            "ticks": ""
           }
          },
          "colorscale": {
           "diverging": [
            [
             0,
             "#8e0152"
            ],
            [
             0.1,
             "#c51b7d"
            ],
            [
             0.2,
             "#de77ae"
            ],
            [
             0.3,
             "#f1b6da"
            ],
            [
             0.4,
             "#fde0ef"
            ],
            [
             0.5,
             "#f7f7f7"
            ],
            [
             0.6,
             "#e6f5d0"
            ],
            [
             0.7,
             "#b8e186"
            ],
            [
             0.8,
             "#7fbc41"
            ],
            [
             0.9,
             "#4d9221"
            ],
            [
             1,
             "#276419"
            ]
           ],
           "sequential": [
            [
             0,
             "#0d0887"
            ],
            [
             0.1111111111111111,
             "#46039f"
            ],
            [
             0.2222222222222222,
             "#7201a8"
            ],
            [
             0.3333333333333333,
             "#9c179e"
            ],
            [
             0.4444444444444444,
             "#bd3786"
            ],
            [
             0.5555555555555556,
             "#d8576b"
            ],
            [
             0.6666666666666666,
             "#ed7953"
            ],
            [
             0.7777777777777778,
             "#fb9f3a"
            ],
            [
             0.8888888888888888,
             "#fdca26"
            ],
            [
             1,
             "#f0f921"
            ]
           ],
           "sequentialminus": [
            [
             0,
             "#0d0887"
            ],
            [
             0.1111111111111111,
             "#46039f"
            ],
            [
             0.2222222222222222,
             "#7201a8"
            ],
            [
             0.3333333333333333,
             "#9c179e"
            ],
            [
             0.4444444444444444,
             "#bd3786"
            ],
            [
             0.5555555555555556,
             "#d8576b"
            ],
            [
             0.6666666666666666,
             "#ed7953"
            ],
            [
             0.7777777777777778,
             "#fb9f3a"
            ],
            [
             0.8888888888888888,
             "#fdca26"
            ],
            [
             1,
             "#f0f921"
            ]
           ]
          },
          "colorway": [
           "#636efa",
           "#EF553B",
           "#00cc96",
           "#ab63fa",
           "#FFA15A",
           "#19d3f3",
           "#FF6692",
           "#B6E880",
           "#FF97FF",
           "#FECB52"
          ],
          "font": {
           "color": "#2a3f5f"
          },
          "geo": {
           "bgcolor": "white",
           "lakecolor": "white",
           "landcolor": "#E5ECF6",
           "showlakes": true,
           "showland": true,
           "subunitcolor": "white"
          },
          "hoverlabel": {
           "align": "left"
          },
          "hovermode": "closest",
          "mapbox": {
           "style": "light"
          },
          "paper_bgcolor": "white",
          "plot_bgcolor": "#E5ECF6",
          "polar": {
           "angularaxis": {
            "gridcolor": "white",
            "linecolor": "white",
            "ticks": ""
           },
           "bgcolor": "#E5ECF6",
           "radialaxis": {
            "gridcolor": "white",
            "linecolor": "white",
            "ticks": ""
           }
          },
          "scene": {
           "xaxis": {
            "backgroundcolor": "#E5ECF6",
            "gridcolor": "white",
            "gridwidth": 2,
            "linecolor": "white",
            "showbackground": true,
            "ticks": "",
            "zerolinecolor": "white"
           },
           "yaxis": {
            "backgroundcolor": "#E5ECF6",
            "gridcolor": "white",
            "gridwidth": 2,
            "linecolor": "white",
            "showbackground": true,
            "ticks": "",
            "zerolinecolor": "white"
           },
           "zaxis": {
            "backgroundcolor": "#E5ECF6",
            "gridcolor": "white",
            "gridwidth": 2,
            "linecolor": "white",
            "showbackground": true,
            "ticks": "",
            "zerolinecolor": "white"
           }
          },
          "shapedefaults": {
           "line": {
            "color": "#2a3f5f"
           }
          },
          "ternary": {
           "aaxis": {
            "gridcolor": "white",
            "linecolor": "white",
            "ticks": ""
           },
           "baxis": {
            "gridcolor": "white",
            "linecolor": "white",
            "ticks": ""
           },
           "bgcolor": "#E5ECF6",
           "caxis": {
            "gridcolor": "white",
            "linecolor": "white",
            "ticks": ""
           }
          },
          "title": {
           "x": 0.05
          },
          "xaxis": {
           "automargin": true,
           "gridcolor": "white",
           "linecolor": "white",
           "ticks": "",
           "title": {
            "standoff": 15
           },
           "zerolinecolor": "white",
           "zerolinewidth": 2
          },
          "yaxis": {
           "automargin": true,
           "gridcolor": "white",
           "linecolor": "white",
           "ticks": "",
           "title": {
            "standoff": 15
           },
           "zerolinecolor": "white",
           "zerolinewidth": 2
          }
         }
        }
       }
      }
     },
     "metadata": {},
     "output_type": "display_data"
    }
   ],
   "source": [
    "plotter = src.Plotter(env=tf_env)\n",
    "plotter.draw(\"3d\", zrange=None)"
   ]
  },
  {
   "cell_type": "code",
   "execution_count": 17,
   "metadata": {},
   "outputs": [],
   "source": [
    "if agent_type in [\"PPO\"]:\n",
    "    initial_time_step = tf_env.reset()\n",
    "    policy_state = tf_agent.collect_policy.get_initial_state(tf_env.batch_size)\n",
    "    _, policy_state = trn_driver.run(initial_time_step, policy_state)\n",
    "    # replay_buffer.gather_all()\n",
    "\n",
    "if agent_type in [\"DQN\"]:\n",
    "    initial_time_step = tf_env.reset()\n",
    "    _, policy_state = trn_driver.run(initial_time_step)\n",
    "    data = replay_buffer.as_dataset(\n",
    "        num_parallel_calls=3,\n",
    "        sample_batch_size=dqn_batch_size,\n",
    "        num_steps=2).prefetch(3)"
   ]
  },
  {
   "cell_type": "code",
   "execution_count": 18,
   "metadata": {},
   "outputs": [
    {
     "data": {
      "application/vnd.plotly.v1+json": {
       "config": {
        "plotlyServerURL": "https://plot.ly"
       },
       "data": [
        {
         "hovertemplate": "x=%{x}<br>y=%{y}<br>z=%{z}<br>size=%{marker.size}<extra></extra>",
         "legendgroup": "",
         "marker": {
          "color": "purple",
          "size": [
           1
          ],
          "sizemode": "area",
          "sizeref": 0.0025,
          "symbol": "circle"
         },
         "mode": "markers",
         "name": "",
         "scene": "scene",
         "showlegend": false,
         "type": "scatter3d",
         "x": [
          0
         ],
         "y": [
          0
         ],
         "z": [
          0.10000000149011612
         ]
        },
        {
         "hovertemplate": "body=earth<br>x=%{x}<br>y=%{y}<br>z=%{z}<extra></extra>",
         "legendgroup": "earth",
         "line": {
          "color": "#636efa",
          "dash": "solid"
         },
         "marker": {
          "symbol": "circle"
         },
         "mode": "lines",
         "name": "earth",
         "scene": "scene",
         "showlegend": true,
         "type": "scatter3d",
         "x": [
          -0.17567656934261322,
          -0.2100236713886261,
          -0.2441209852695465,
          -0.2779237627983093,
          -0.3113875091075897,
          -0.34446844458580017,
          -0.37712377309799194,
          -0.40931224822998047,
          -0.440994530916214,
          -0.4721335172653198,
          -0.5026941299438477,
          -0.5326423645019531,
          -0.5619438886642456,
          -0.5905635356903076,
          -0.6184654235839844,
          -0.6456139087677002,
          -0.6719738841056824,
          -0.6975108981132507,
          -0.7221918106079102,
          -0.7459848523139954,
          -0.7688601613044739,
          -0.7907903790473938,
          -0.8117505311965942,
          -0.8317185044288635,
          -0.8506744503974915,
          -0.868599534034729,
          -0.8854752779006958,
          -0.9012826681137085,
          -0.9160028100013733,
          -0.9296173453330994,
          -0.9421088695526123,
          -0.9534614682197571,
          -0.9636607766151428,
          -0.9726940989494324,
          -0.9805514216423035,
          -0.9872252941131592,
          -0.9927112460136414,
          -0.9970076680183411,
          -1.0001145601272583,
          -1.0020328760147095,
          -1.002764105796814,
          -1.0023090839385986,
          -1.000669002532959,
          -0.9978456497192383,
          -0.9938421845436096,
          -0.9886628985404968,
          -0.9823138117790222,
          -0.9748026728630066,
          -0.9661396741867065,
          -0.9563378691673279,
          -0.9454131126403809,
          -0.9333834648132324
         ],
         "y": [
          0.9659890532493591,
          0.9593546390533447,
          0.9515174627304077,
          0.942486584186554,
          0.9322735667228699,
          0.9208922982215881,
          0.9083592295646667,
          0.8946929574012756,
          0.8799137473106384,
          0.8640429377555847,
          0.8471020460128784,
          0.8291118144989014,
          0.8100924491882324,
          0.7900649309158325,
          0.7690519690513611,
          0.7470782399177551,
          0.7241705060005188,
          0.7003574371337891,
          0.6756699681282043,
          0.6501407027244568,
          0.62380450963974,
          0.5966973900794983,
          0.568856418132782,
          0.5403187870979309,
          0.5111208558082581,
          0.48129802942276,
          0.45088472962379456,
          0.41991570591926575,
          0.3884267508983612,
          0.3564552068710327,
          0.3240397274494171,
          0.29122039675712585,
          0.2580384910106659,
          0.22453667223453522,
          0.190758615732193,
          0.15674865245819092,
          0.122550830245018,
          0.08820817619562149,
          0.05376209691166878,
          0.019252333790063858,
          -0.015282564796507359,
          -0.04980435594916344,
          -0.08427435904741287,
          -0.11865313351154327,
          -0.15290051698684692,
          -0.18697576224803925,
          -0.2208375632762909,
          -0.25444409251213074,
          -0.2877531349658966,
          -0.3207227289676666,
          -0.353312224149704,
          -0.3854830265045166
         ],
         "z": [
          0.00002149350621039048,
          0.00002288799441885203,
          0.00002498823778296355,
          0.000027650236006593332,
          0.00003067478246521205,
          0.00003382885915925726,
          0.00003687653224915266,
          0.00003961824404541403,
          0.00004193782660877332,
          0.00004385869033285417,
          0.00004557728243526071,
          0.000047416655434062704,
          0.000049704303819453344,
          0.00005266203879727982,
          0.000056374545238213614,
          0.000060814389144070446,
          0.00006587210373254493,
          0.000071374983235728,
          0.00007710260251769796,
          0.00008280962356366217,
          0.0000882635940797627,
          0.00009329383465228602,
          0.00009783852874534205,
          0.00010197969822911546,
          0.00010594581544864923,
          0.00011005390842910856,
          0.00011460161476861686,
          0.00011977423127973452,
          0.00012561881158035249,
          0.00013207121810410172,
          0.00013899146870244294,
          0.00014618640125263482,
          0.00015342480037361383,
          0.0001604601857252419,
          0.00016707397298887372,
          0.00017313362332060933,
          0.00017863995162770152,
          0.00018373868078924716,
          0.00018868801998905838,
          0.00019378714205231518,
          0.00019928721303585917,
          0.0002053248608717695,
          0.00021190685220062733,
          0.00021893615485168993,
          0.00022624769189860672,
          0.00023363404034171253,
          0.00024086212215479463,
          0.0002476958616171032,
          0.0002539418637752533,
          0.00025951446150429547,
          0.00026448225253261626,
          0.0002690557739697397
         ]
        },
        {
         "hovertemplate": "body=test<br>x=%{x}<br>y=%{y}<br>z=%{z}<extra></extra>",
         "legendgroup": "test",
         "line": {
          "color": "#EF553B",
          "dash": "solid"
         },
         "marker": {
          "symbol": "circle"
         },
         "mode": "lines",
         "name": "test",
         "scene": "scene",
         "showlegend": true,
         "type": "scatter3d",
         "x": [
          0,
          -3.299397977052365e-10,
          -1.319759190820946e-9,
          -2.969458012813675e-9,
          -5.279036319194574e-9,
          -8.24849344382983e-9,
          -1.1877828498541021e-8,
          -1.61670392628821e-8,
          -2.1116118631425707e-8,
          -2.6725061275101325e-8,
          -3.299385653576792e-8,
          -3.992249020257077e-8,
          -4.7510951617368846e-8,
          -5.575923012202111e-8,
          -6.466731150567284e-8,
          -7.423518155746933e-8,
          -8.446283317198322e-8,
          -9.535025924378715e-8,
          -1.068974455620264e-7,
          -1.1910436370499156e-7,
          -1.3197097814554581e-7,
          -1.454972533565524e-7,
          -1.5968311117831036e-7,
          -1.7452850897825556e-7,
          -1.900333614912597e-7,
          -2.0619758345219452e-7,
          -2.2302104696336755e-7,
          -2.4050362412708637e-7,
          -2.586451444130944e-7,
          -2.7744547992369917e-7,
          -2.9690448855035356e-7,
          -3.17021999762801e-7,
          -3.3779781460907543e-7,
          -3.5923179098062974e-7,
          -3.8132367308207904e-7,
          -4.040732335397479e-7,
          -4.2748024497996084e-7,
          -4.5154448002904246e-7,
          -4.7626576815673616e-7,
          -5.016438535676571e-7,
          -5.27678594153258e-7,
          -5.543697625398636e-7,
          -5.81717245040636e-7,
          -6.097208142819e-7,
          -6.383802997333987e-7,
          -6.676954740214569e-7,
          -6.976659960855613e-7,
          -7.282916385520366e-7,
          -7.595721172037884e-7,
          -7.915071478237223e-7,
          -8.240964461947442e-7,
          -8.573397280997597e-7
         ],
         "y": [
          0,
          1.8142329860637574e-9,
          7.2569319442550295e-9,
          1.632809798479684e-8,
          2.9027727777020118e-8,
          4.53558186563896e-8,
          6.531236351747793e-8,
          8.889735170214408e-8,
          1.161107547886786e-7,
          1.4695253014451737e-7,
          1.814226209262415e-7,
          2.1952095607957745e-7,
          2.612474645502516e-7,
          3.0660208949484513e-7,
          3.5558474564822973e-7,
          4.0819537616698653e-7,
          4.644339242076967e-7,
          5.243003897703602e-7,
          5.877946591681393e-7,
          6.549165618707775e-7,
          7.25665984191437e-7,
          8.000425850696047e-7,
          8.780460802881862e-7,
          9.596761856300873e-7,
          0.000001044932446347957,
          0.0000011338142940076068,
          0.000001226321160174848,
          0.000001322452135354979,
          0.0000014222065374269732,
          0.0000015255835705829668,
          0.0000016325824390150956,
          0.0000017432021195418201,
          0.0000018574417026684387,
          0.0000019753001652134117,
          0.000002096776370308362,
          0.000002221868953711237,
          0.0000023505765511799837,
          0.000002482898025846225,
          0.0000026188324682152597,
          0.0000027583785140450345,
          0.000002901535253840848,
          0.0000030483015507343225,
          0.0000031986764952307567,
          0.0000033526591778354486,
          0.000003510248461680021,
          0.000003671443209896097,
          0.000003836241376120597,
          0.00000400464205085882,
          0.000004176643415121362,
          0.00000435224410466617,
          0.000004531442300503841,
          0.000004714236638392322
         ],
         "z": [
          0,
          4.036715081125186e-14,
          0.00019999999494757503,
          0.0005999999702908099,
          0.0009999999310821295,
          0.00139999995008111,
          0.001999999862164259,
          0.0029999997932463884,
          0.00419999985024333,
          0.005199999548494816,
          0.006199999712407589,
          0.007199999876320362,
          0.007999999448657036,
          0.00879999902099371,
          0.009399998933076859,
          0.009799998253583908,
          0.010199997574090958,
          0.010799997486174107,
          0.011799996718764305,
          0.013199996203184128,
          0.014999995939433575,
          0.01679999567568302,
          0.01839999482035637,
          0.02019999362528324,
          0.022399993613362312,
          0.024999992921948433,
          0.027599992230534554,
          0.02999999187886715,
          0.03219999000430107,
          0.03439998999238014,
          0.03679998964071274,
          0.03899998962879181,
          0.04119998961687088,
          0.043799988925457,
          0.04639998823404312,
          0.04879998415708542,
          0.05099998041987419,
          0.052799977362155914,
          0.05459997430443764,
          0.05639997124671936,
          0.05799996852874756,
          0.05939996615052223,
          0.060799963772296906,
          0.062399961054325104,
          0.06419995427131653,
          0.066399946808815,
          0.06859993934631348,
          0.0703999325633049,
          0.07219992578029633,
          0.07419992238283157,
          0.07619991898536682,
          0.07819991558790207
         ]
        }
       ],
       "layout": {
        "scene": {
         "zaxis": {
          "nticks": 4
         }
        },
        "template": {
         "data": {
          "bar": [
           {
            "error_x": {
             "color": "#2a3f5f"
            },
            "error_y": {
             "color": "#2a3f5f"
            },
            "marker": {
             "line": {
              "color": "#E5ECF6",
              "width": 0.5
             },
             "pattern": {
              "fillmode": "overlay",
              "size": 10,
              "solidity": 0.2
             }
            },
            "type": "bar"
           }
          ],
          "barpolar": [
           {
            "marker": {
             "line": {
              "color": "#E5ECF6",
              "width": 0.5
             },
             "pattern": {
              "fillmode": "overlay",
              "size": 10,
              "solidity": 0.2
             }
            },
            "type": "barpolar"
           }
          ],
          "carpet": [
           {
            "aaxis": {
             "endlinecolor": "#2a3f5f",
             "gridcolor": "white",
             "linecolor": "white",
             "minorgridcolor": "white",
             "startlinecolor": "#2a3f5f"
            },
            "baxis": {
             "endlinecolor": "#2a3f5f",
             "gridcolor": "white",
             "linecolor": "white",
             "minorgridcolor": "white",
             "startlinecolor": "#2a3f5f"
            },
            "type": "carpet"
           }
          ],
          "choropleth": [
           {
            "colorbar": {
             "outlinewidth": 0,
             "ticks": ""
            },
            "type": "choropleth"
           }
          ],
          "contour": [
           {
            "colorbar": {
             "outlinewidth": 0,
             "ticks": ""
            },
            "colorscale": [
             [
              0,
              "#0d0887"
             ],
             [
              0.1111111111111111,
              "#46039f"
             ],
             [
              0.2222222222222222,
              "#7201a8"
             ],
             [
              0.3333333333333333,
              "#9c179e"
             ],
             [
              0.4444444444444444,
              "#bd3786"
             ],
             [
              0.5555555555555556,
              "#d8576b"
             ],
             [
              0.6666666666666666,
              "#ed7953"
             ],
             [
              0.7777777777777778,
              "#fb9f3a"
             ],
             [
              0.8888888888888888,
              "#fdca26"
             ],
             [
              1,
              "#f0f921"
             ]
            ],
            "type": "contour"
           }
          ],
          "contourcarpet": [
           {
            "colorbar": {
             "outlinewidth": 0,
             "ticks": ""
            },
            "type": "contourcarpet"
           }
          ],
          "heatmap": [
           {
            "colorbar": {
             "outlinewidth": 0,
             "ticks": ""
            },
            "colorscale": [
             [
              0,
              "#0d0887"
             ],
             [
              0.1111111111111111,
              "#46039f"
             ],
             [
              0.2222222222222222,
              "#7201a8"
             ],
             [
              0.3333333333333333,
              "#9c179e"
             ],
             [
              0.4444444444444444,
              "#bd3786"
             ],
             [
              0.5555555555555556,
              "#d8576b"
             ],
             [
              0.6666666666666666,
              "#ed7953"
             ],
             [
              0.7777777777777778,
              "#fb9f3a"
             ],
             [
              0.8888888888888888,
              "#fdca26"
             ],
             [
              1,
              "#f0f921"
             ]
            ],
            "type": "heatmap"
           }
          ],
          "heatmapgl": [
           {
            "colorbar": {
             "outlinewidth": 0,
             "ticks": ""
            },
            "colorscale": [
             [
              0,
              "#0d0887"
             ],
             [
              0.1111111111111111,
              "#46039f"
             ],
             [
              0.2222222222222222,
              "#7201a8"
             ],
             [
              0.3333333333333333,
              "#9c179e"
             ],
             [
              0.4444444444444444,
              "#bd3786"
             ],
             [
              0.5555555555555556,
              "#d8576b"
             ],
             [
              0.6666666666666666,
              "#ed7953"
             ],
             [
              0.7777777777777778,
              "#fb9f3a"
             ],
             [
              0.8888888888888888,
              "#fdca26"
             ],
             [
              1,
              "#f0f921"
             ]
            ],
            "type": "heatmapgl"
           }
          ],
          "histogram": [
           {
            "marker": {
             "pattern": {
              "fillmode": "overlay",
              "size": 10,
              "solidity": 0.2
             }
            },
            "type": "histogram"
           }
          ],
          "histogram2d": [
           {
            "colorbar": {
             "outlinewidth": 0,
             "ticks": ""
            },
            "colorscale": [
             [
              0,
              "#0d0887"
             ],
             [
              0.1111111111111111,
              "#46039f"
             ],
             [
              0.2222222222222222,
              "#7201a8"
             ],
             [
              0.3333333333333333,
              "#9c179e"
             ],
             [
              0.4444444444444444,
              "#bd3786"
             ],
             [
              0.5555555555555556,
              "#d8576b"
             ],
             [
              0.6666666666666666,
              "#ed7953"
             ],
             [
              0.7777777777777778,
              "#fb9f3a"
             ],
             [
              0.8888888888888888,
              "#fdca26"
             ],
             [
              1,
              "#f0f921"
             ]
            ],
            "type": "histogram2d"
           }
          ],
          "histogram2dcontour": [
           {
            "colorbar": {
             "outlinewidth": 0,
             "ticks": ""
            },
            "colorscale": [
             [
              0,
              "#0d0887"
             ],
             [
              0.1111111111111111,
              "#46039f"
             ],
             [
              0.2222222222222222,
              "#7201a8"
             ],
             [
              0.3333333333333333,
              "#9c179e"
             ],
             [
              0.4444444444444444,
              "#bd3786"
             ],
             [
              0.5555555555555556,
              "#d8576b"
             ],
             [
              0.6666666666666666,
              "#ed7953"
             ],
             [
              0.7777777777777778,
              "#fb9f3a"
             ],
             [
              0.8888888888888888,
              "#fdca26"
             ],
             [
              1,
              "#f0f921"
             ]
            ],
            "type": "histogram2dcontour"
           }
          ],
          "mesh3d": [
           {
            "colorbar": {
             "outlinewidth": 0,
             "ticks": ""
            },
            "type": "mesh3d"
           }
          ],
          "parcoords": [
           {
            "line": {
             "colorbar": {
              "outlinewidth": 0,
              "ticks": ""
             }
            },
            "type": "parcoords"
           }
          ],
          "pie": [
           {
            "automargin": true,
            "type": "pie"
           }
          ],
          "scatter": [
           {
            "fillpattern": {
             "fillmode": "overlay",
             "size": 10,
             "solidity": 0.2
            },
            "type": "scatter"
           }
          ],
          "scatter3d": [
           {
            "line": {
             "colorbar": {
              "outlinewidth": 0,
              "ticks": ""
             }
            },
            "marker": {
             "colorbar": {
              "outlinewidth": 0,
              "ticks": ""
             }
            },
            "type": "scatter3d"
           }
          ],
          "scattercarpet": [
           {
            "marker": {
             "colorbar": {
              "outlinewidth": 0,
              "ticks": ""
             }
            },
            "type": "scattercarpet"
           }
          ],
          "scattergeo": [
           {
            "marker": {
             "colorbar": {
              "outlinewidth": 0,
              "ticks": ""
             }
            },
            "type": "scattergeo"
           }
          ],
          "scattergl": [
           {
            "marker": {
             "colorbar": {
              "outlinewidth": 0,
              "ticks": ""
             }
            },
            "type": "scattergl"
           }
          ],
          "scattermapbox": [
           {
            "marker": {
             "colorbar": {
              "outlinewidth": 0,
              "ticks": ""
             }
            },
            "type": "scattermapbox"
           }
          ],
          "scatterpolar": [
           {
            "marker": {
             "colorbar": {
              "outlinewidth": 0,
              "ticks": ""
             }
            },
            "type": "scatterpolar"
           }
          ],
          "scatterpolargl": [
           {
            "marker": {
             "colorbar": {
              "outlinewidth": 0,
              "ticks": ""
             }
            },
            "type": "scatterpolargl"
           }
          ],
          "scatterternary": [
           {
            "marker": {
             "colorbar": {
              "outlinewidth": 0,
              "ticks": ""
             }
            },
            "type": "scatterternary"
           }
          ],
          "surface": [
           {
            "colorbar": {
             "outlinewidth": 0,
             "ticks": ""
            },
            "colorscale": [
             [
              0,
              "#0d0887"
             ],
             [
              0.1111111111111111,
              "#46039f"
             ],
             [
              0.2222222222222222,
              "#7201a8"
             ],
             [
              0.3333333333333333,
              "#9c179e"
             ],
             [
              0.4444444444444444,
              "#bd3786"
             ],
             [
              0.5555555555555556,
              "#d8576b"
             ],
             [
              0.6666666666666666,
              "#ed7953"
             ],
             [
              0.7777777777777778,
              "#fb9f3a"
             ],
             [
              0.8888888888888888,
              "#fdca26"
             ],
             [
              1,
              "#f0f921"
             ]
            ],
            "type": "surface"
           }
          ],
          "table": [
           {
            "cells": {
             "fill": {
              "color": "#EBF0F8"
             },
             "line": {
              "color": "white"
             }
            },
            "header": {
             "fill": {
              "color": "#C8D4E3"
             },
             "line": {
              "color": "white"
             }
            },
            "type": "table"
           }
          ]
         },
         "layout": {
          "annotationdefaults": {
           "arrowcolor": "#2a3f5f",
           "arrowhead": 0,
           "arrowwidth": 1
          },
          "autotypenumbers": "strict",
          "coloraxis": {
           "colorbar": {
            "outlinewidth": 0,
            "ticks": ""
           }
          },
          "colorscale": {
           "diverging": [
            [
             0,
             "#8e0152"
            ],
            [
             0.1,
             "#c51b7d"
            ],
            [
             0.2,
             "#de77ae"
            ],
            [
             0.3,
             "#f1b6da"
            ],
            [
             0.4,
             "#fde0ef"
            ],
            [
             0.5,
             "#f7f7f7"
            ],
            [
             0.6,
             "#e6f5d0"
            ],
            [
             0.7,
             "#b8e186"
            ],
            [
             0.8,
             "#7fbc41"
            ],
            [
             0.9,
             "#4d9221"
            ],
            [
             1,
             "#276419"
            ]
           ],
           "sequential": [
            [
             0,
             "#0d0887"
            ],
            [
             0.1111111111111111,
             "#46039f"
            ],
            [
             0.2222222222222222,
             "#7201a8"
            ],
            [
             0.3333333333333333,
             "#9c179e"
            ],
            [
             0.4444444444444444,
             "#bd3786"
            ],
            [
             0.5555555555555556,
             "#d8576b"
            ],
            [
             0.6666666666666666,
             "#ed7953"
            ],
            [
             0.7777777777777778,
             "#fb9f3a"
            ],
            [
             0.8888888888888888,
             "#fdca26"
            ],
            [
             1,
             "#f0f921"
            ]
           ],
           "sequentialminus": [
            [
             0,
             "#0d0887"
            ],
            [
             0.1111111111111111,
             "#46039f"
            ],
            [
             0.2222222222222222,
             "#7201a8"
            ],
            [
             0.3333333333333333,
             "#9c179e"
            ],
            [
             0.4444444444444444,
             "#bd3786"
            ],
            [
             0.5555555555555556,
             "#d8576b"
            ],
            [
             0.6666666666666666,
             "#ed7953"
            ],
            [
             0.7777777777777778,
             "#fb9f3a"
            ],
            [
             0.8888888888888888,
             "#fdca26"
            ],
            [
             1,
             "#f0f921"
            ]
           ]
          },
          "colorway": [
           "#636efa",
           "#EF553B",
           "#00cc96",
           "#ab63fa",
           "#FFA15A",
           "#19d3f3",
           "#FF6692",
           "#B6E880",
           "#FF97FF",
           "#FECB52"
          ],
          "font": {
           "color": "#2a3f5f"
          },
          "geo": {
           "bgcolor": "white",
           "lakecolor": "white",
           "landcolor": "#E5ECF6",
           "showlakes": true,
           "showland": true,
           "subunitcolor": "white"
          },
          "hoverlabel": {
           "align": "left"
          },
          "hovermode": "closest",
          "mapbox": {
           "style": "light"
          },
          "paper_bgcolor": "white",
          "plot_bgcolor": "#E5ECF6",
          "polar": {
           "angularaxis": {
            "gridcolor": "white",
            "linecolor": "white",
            "ticks": ""
           },
           "bgcolor": "#E5ECF6",
           "radialaxis": {
            "gridcolor": "white",
            "linecolor": "white",
            "ticks": ""
           }
          },
          "scene": {
           "xaxis": {
            "backgroundcolor": "#E5ECF6",
            "gridcolor": "white",
            "gridwidth": 2,
            "linecolor": "white",
            "showbackground": true,
            "ticks": "",
            "zerolinecolor": "white"
           },
           "yaxis": {
            "backgroundcolor": "#E5ECF6",
            "gridcolor": "white",
            "gridwidth": 2,
            "linecolor": "white",
            "showbackground": true,
            "ticks": "",
            "zerolinecolor": "white"
           },
           "zaxis": {
            "backgroundcolor": "#E5ECF6",
            "gridcolor": "white",
            "gridwidth": 2,
            "linecolor": "white",
            "showbackground": true,
            "ticks": "",
            "zerolinecolor": "white"
           }
          },
          "shapedefaults": {
           "line": {
            "color": "#2a3f5f"
           }
          },
          "ternary": {
           "aaxis": {
            "gridcolor": "white",
            "linecolor": "white",
            "ticks": ""
           },
           "baxis": {
            "gridcolor": "white",
            "linecolor": "white",
            "ticks": ""
           },
           "bgcolor": "#E5ECF6",
           "caxis": {
            "gridcolor": "white",
            "linecolor": "white",
            "ticks": ""
           }
          },
          "title": {
           "x": 0.05
          },
          "xaxis": {
           "automargin": true,
           "gridcolor": "white",
           "linecolor": "white",
           "ticks": "",
           "title": {
            "standoff": 15
           },
           "zerolinecolor": "white",
           "zerolinewidth": 2
          },
          "yaxis": {
           "automargin": true,
           "gridcolor": "white",
           "linecolor": "white",
           "ticks": "",
           "title": {
            "standoff": 15
           },
           "zerolinecolor": "white",
           "zerolinewidth": 2
          }
         }
        }
       }
      }
     },
     "metadata": {},
     "output_type": "display_data"
    }
   ],
   "source": [
    "plotter = src.Plotter(env=tf_env)\n",
    "plotter.draw(\"3d\", zrange=None)"
   ]
  },
  {
   "cell_type": "code",
   "execution_count": 19,
   "metadata": {},
   "outputs": [],
   "source": [
    "replay_buffer.clear()"
   ]
  },
  {
   "cell_type": "markdown",
   "metadata": {},
   "source": [
    "#### Training Loop\n",
    "----"
   ]
  },
  {
   "cell_type": "code",
   "execution_count": 20,
   "metadata": {},
   "outputs": [],
   "source": [
    "# Speeing up:\n",
    "trn_driver.run = function(trn_driver.run)\n",
    "evl_driver.run = function(evl_driver.run)\n",
    "tf_agent.train = function(tf_agent.train)"
   ]
  },
  {
   "cell_type": "code",
   "execution_count": 21,
   "metadata": {},
   "outputs": [
    {
     "name": "stderr",
     "output_type": "stream",
     "text": [
      "  0%|          | 0/2001 [00:00<?, ?it/s]"
     ]
    },
    {
     "name": "stdout",
     "output_type": "stream",
     "text": [
      "WARNING:tensorflow:From C:\\Users\\janni\\AppData\\Local\\Temp\\ipykernel_30908\\3830219757.py:25: ReplayBuffer.gather_all (from tf_agents.replay_buffers.replay_buffer) is deprecated and will be removed in a future version.\n",
      "Instructions for updating:\n",
      "Use `as_dataset(..., single_deterministic_pass=True)` instead.\n"
     ]
    },
    {
     "name": "stderr",
     "output_type": "stream",
     "text": [
      "  0%|          | 1/2001 [00:18<10:01:15, 18.04s/it]"
     ]
    },
    {
     "name": "stdout",
     "output_type": "stream",
     "text": [
      "\n",
      "Eposide 0:\n",
      "- Train Average Return = 11.02\n",
      "- Eval Average Return  = 6.83\n",
      "- Loss                 = 13138.40\n"
     ]
    },
    {
     "name": "stderr",
     "output_type": "stream",
     "text": [
      "  3%|▎         | 51/2001 [01:02<28:14,  1.15it/s]  "
     ]
    },
    {
     "name": "stdout",
     "output_type": "stream",
     "text": [
      "\n",
      "Eposide 50:\n",
      "- Train Average Return = 5.75\n",
      "- Eval Average Return  = 6.83\n",
      "- Loss                 = 159.27\n"
     ]
    },
    {
     "name": "stderr",
     "output_type": "stream",
     "text": [
      "  5%|▌         | 101/2001 [01:47<27:01,  1.17it/s]"
     ]
    },
    {
     "name": "stdout",
     "output_type": "stream",
     "text": [
      "\n",
      "Eposide 100:\n",
      "- Train Average Return = 8.44\n",
      "- Eval Average Return  = 8.93\n",
      "- Loss                 = 182.13\n"
     ]
    },
    {
     "name": "stderr",
     "output_type": "stream",
     "text": [
      "  8%|▊         | 151/2001 [02:30<26:07,  1.18it/s]"
     ]
    },
    {
     "name": "stdout",
     "output_type": "stream",
     "text": [
      "\n",
      "Eposide 150:\n",
      "- Train Average Return = 9.65\n",
      "- Eval Average Return  = 9.45\n",
      "- Loss                 = 130.07\n"
     ]
    },
    {
     "name": "stderr",
     "output_type": "stream",
     "text": [
      " 10%|█         | 201/2001 [03:13<25:33,  1.17it/s]"
     ]
    },
    {
     "name": "stdout",
     "output_type": "stream",
     "text": [
      "\n",
      "Eposide 200:\n",
      "- Train Average Return = 11.50\n",
      "- Eval Average Return  = 13.45\n",
      "- Loss                 = 106.22\n"
     ]
    },
    {
     "name": "stderr",
     "output_type": "stream",
     "text": [
      " 13%|█▎        | 251/2001 [03:57<27:05,  1.08it/s]"
     ]
    },
    {
     "name": "stdout",
     "output_type": "stream",
     "text": [
      "\n",
      "Eposide 250:\n",
      "- Train Average Return = 11.68\n",
      "- Eval Average Return  = 16.23\n",
      "- Loss                 = 135.53\n"
     ]
    },
    {
     "name": "stderr",
     "output_type": "stream",
     "text": [
      " 15%|█▌        | 301/2001 [04:41<24:50,  1.14it/s]"
     ]
    },
    {
     "name": "stdout",
     "output_type": "stream",
     "text": [
      "\n",
      "Eposide 300:\n",
      "- Train Average Return = 8.15\n",
      "- Eval Average Return  = 6.83\n",
      "- Loss                 = 43.89\n"
     ]
    },
    {
     "name": "stderr",
     "output_type": "stream",
     "text": [
      " 18%|█▊        | 351/2001 [05:25<25:31,  1.08it/s]"
     ]
    },
    {
     "name": "stdout",
     "output_type": "stream",
     "text": [
      "\n",
      "Eposide 350:\n",
      "- Train Average Return = 14.44\n",
      "- Eval Average Return  = 6.83\n",
      "- Loss                 = 109.66\n"
     ]
    },
    {
     "name": "stderr",
     "output_type": "stream",
     "text": [
      " 20%|██        | 401/2001 [06:08<23:14,  1.15it/s]"
     ]
    },
    {
     "name": "stdout",
     "output_type": "stream",
     "text": [
      "\n",
      "Eposide 400:\n",
      "- Train Average Return = 8.29\n",
      "- Eval Average Return  = 6.83\n",
      "- Loss                 = 50.99\n"
     ]
    },
    {
     "name": "stderr",
     "output_type": "stream",
     "text": [
      " 23%|██▎       | 451/2001 [06:53<19:40,  1.31it/s]"
     ]
    },
    {
     "name": "stdout",
     "output_type": "stream",
     "text": [
      "\n",
      "Eposide 450:\n",
      "- Train Average Return = 9.84\n",
      "- Eval Average Return  = 9.11\n",
      "- Loss                 = 215.53\n"
     ]
    },
    {
     "name": "stderr",
     "output_type": "stream",
     "text": [
      " 25%|██▌       | 501/2001 [07:31<18:35,  1.34it/s]"
     ]
    },
    {
     "name": "stdout",
     "output_type": "stream",
     "text": [
      "\n",
      "Eposide 500:\n",
      "- Train Average Return = 10.82\n",
      "- Eval Average Return  = 6.83\n",
      "- Loss                 = 73.80\n"
     ]
    },
    {
     "name": "stderr",
     "output_type": "stream",
     "text": [
      " 28%|██▊       | 551/2001 [08:09<19:12,  1.26it/s]"
     ]
    },
    {
     "name": "stdout",
     "output_type": "stream",
     "text": [
      "\n",
      "Eposide 550:\n",
      "- Train Average Return = 8.39\n",
      "- Eval Average Return  = 18.75\n",
      "- Loss                 = 58.02\n"
     ]
    },
    {
     "name": "stderr",
     "output_type": "stream",
     "text": [
      " 30%|███       | 601/2001 [08:47<17:49,  1.31it/s]"
     ]
    },
    {
     "name": "stdout",
     "output_type": "stream",
     "text": [
      "\n",
      "Eposide 600:\n",
      "- Train Average Return = 12.27\n",
      "- Eval Average Return  = 13.92\n",
      "- Loss                 = 42.19\n"
     ]
    },
    {
     "name": "stderr",
     "output_type": "stream",
     "text": [
      " 33%|███▎      | 651/2001 [09:25<16:38,  1.35it/s]"
     ]
    },
    {
     "name": "stdout",
     "output_type": "stream",
     "text": [
      "\n",
      "Eposide 650:\n",
      "- Train Average Return = 15.93\n",
      "- Eval Average Return  = 16.16\n",
      "- Loss                 = 137.11\n"
     ]
    },
    {
     "name": "stderr",
     "output_type": "stream",
     "text": [
      " 35%|███▌      | 701/2001 [10:02<15:50,  1.37it/s]"
     ]
    },
    {
     "name": "stdout",
     "output_type": "stream",
     "text": [
      "\n",
      "Eposide 700:\n",
      "- Train Average Return = 11.74\n",
      "- Eval Average Return  = 16.79\n",
      "- Loss                 = 292.16\n"
     ]
    },
    {
     "name": "stderr",
     "output_type": "stream",
     "text": [
      " 38%|███▊      | 751/2001 [10:40<17:44,  1.17it/s]"
     ]
    },
    {
     "name": "stdout",
     "output_type": "stream",
     "text": [
      "\n",
      "Eposide 750:\n",
      "- Train Average Return = 9.05\n",
      "- Eval Average Return  = 19.57\n",
      "- Loss                 = 63.40\n"
     ]
    },
    {
     "name": "stderr",
     "output_type": "stream",
     "text": [
      " 40%|████      | 801/2001 [11:22<14:32,  1.37it/s]"
     ]
    },
    {
     "name": "stdout",
     "output_type": "stream",
     "text": [
      "\n",
      "Eposide 800:\n",
      "- Train Average Return = 8.96\n",
      "- Eval Average Return  = 17.90\n",
      "- Loss                 = 32.39\n"
     ]
    },
    {
     "name": "stderr",
     "output_type": "stream",
     "text": [
      " 43%|████▎     | 851/2001 [11:59<14:08,  1.36it/s]"
     ]
    },
    {
     "name": "stdout",
     "output_type": "stream",
     "text": [
      "\n",
      "Eposide 850:\n",
      "- Train Average Return = 10.04\n",
      "- Eval Average Return  = 18.97\n",
      "- Loss                 = 23.97\n"
     ]
    },
    {
     "name": "stderr",
     "output_type": "stream",
     "text": [
      " 45%|████▌     | 901/2001 [12:37<15:04,  1.22it/s]"
     ]
    },
    {
     "name": "stdout",
     "output_type": "stream",
     "text": [
      "\n",
      "Eposide 900:\n",
      "- Train Average Return = 8.68\n",
      "- Eval Average Return  = 19.41\n",
      "- Loss                 = 67.35\n"
     ]
    },
    {
     "name": "stderr",
     "output_type": "stream",
     "text": [
      " 48%|████▊     | 951/2001 [13:14<12:46,  1.37it/s]"
     ]
    },
    {
     "name": "stdout",
     "output_type": "stream",
     "text": [
      "\n",
      "Eposide 950:\n",
      "- Train Average Return = 7.97\n",
      "- Eval Average Return  = 14.96\n",
      "- Loss                 = 68.92\n"
     ]
    },
    {
     "name": "stderr",
     "output_type": "stream",
     "text": [
      " 50%|█████     | 1001/2001 [13:50<12:12,  1.37it/s]"
     ]
    },
    {
     "name": "stdout",
     "output_type": "stream",
     "text": [
      "\n",
      "Eposide 1000:\n",
      "- Train Average Return = 13.04\n",
      "- Eval Average Return  = 19.41\n",
      "- Loss                 = 317.65\n"
     ]
    },
    {
     "name": "stderr",
     "output_type": "stream",
     "text": [
      " 53%|█████▎    | 1051/2001 [14:27<11:39,  1.36it/s]"
     ]
    },
    {
     "name": "stdout",
     "output_type": "stream",
     "text": [
      "\n",
      "Eposide 1050:\n",
      "- Train Average Return = 14.61\n",
      "- Eval Average Return  = 16.67\n",
      "- Loss                 = 13.26\n"
     ]
    },
    {
     "name": "stderr",
     "output_type": "stream",
     "text": [
      " 55%|█████▌    | 1101/2001 [15:07<11:54,  1.26it/s]"
     ]
    },
    {
     "name": "stdout",
     "output_type": "stream",
     "text": [
      "\n",
      "Eposide 1100:\n",
      "- Train Average Return = 12.18\n",
      "- Eval Average Return  = 6.83\n",
      "- Loss                 = 67.52\n"
     ]
    },
    {
     "name": "stderr",
     "output_type": "stream",
     "text": [
      " 58%|█████▊    | 1151/2001 [15:50<12:39,  1.12it/s]"
     ]
    },
    {
     "name": "stdout",
     "output_type": "stream",
     "text": [
      "\n",
      "Eposide 1150:\n",
      "- Train Average Return = 8.21\n",
      "- Eval Average Return  = 6.83\n",
      "- Loss                 = 73.75\n"
     ]
    },
    {
     "name": "stderr",
     "output_type": "stream",
     "text": [
      " 60%|██████    | 1201/2001 [16:34<10:53,  1.22it/s]"
     ]
    },
    {
     "name": "stdout",
     "output_type": "stream",
     "text": [
      "\n",
      "Eposide 1200:\n",
      "- Train Average Return = 7.48\n",
      "- Eval Average Return  = 6.83\n",
      "- Loss                 = 27.21\n"
     ]
    },
    {
     "name": "stderr",
     "output_type": "stream",
     "text": [
      " 63%|██████▎   | 1251/2001 [17:18<12:17,  1.02it/s]"
     ]
    },
    {
     "name": "stdout",
     "output_type": "stream",
     "text": [
      "\n",
      "Eposide 1250:\n",
      "- Train Average Return = 14.98\n",
      "- Eval Average Return  = 9.91\n",
      "- Loss                 = 26.83\n"
     ]
    },
    {
     "name": "stderr",
     "output_type": "stream",
     "text": [
      " 65%|██████▌   | 1301/2001 [18:01<09:55,  1.18it/s]"
     ]
    },
    {
     "name": "stdout",
     "output_type": "stream",
     "text": [
      "\n",
      "Eposide 1300:\n",
      "- Train Average Return = 16.63\n",
      "- Eval Average Return  = 18.52\n",
      "- Loss                 = 57.88\n"
     ]
    },
    {
     "name": "stderr",
     "output_type": "stream",
     "text": [
      " 68%|██████▊   | 1351/2001 [18:44<11:24,  1.05s/it]"
     ]
    },
    {
     "name": "stdout",
     "output_type": "stream",
     "text": [
      "\n",
      "Eposide 1350:\n",
      "- Train Average Return = 11.64\n",
      "- Eval Average Return  = 16.99\n",
      "- Loss                 = 37.54\n"
     ]
    },
    {
     "name": "stderr",
     "output_type": "stream",
     "text": [
      " 70%|███████   | 1401/2001 [19:33<09:49,  1.02it/s]"
     ]
    },
    {
     "name": "stdout",
     "output_type": "stream",
     "text": [
      "\n",
      "Eposide 1400:\n",
      "- Train Average Return = 15.85\n",
      "- Eval Average Return  = 18.30\n",
      "- Loss                 = 37.24\n"
     ]
    },
    {
     "name": "stderr",
     "output_type": "stream",
     "text": [
      " 73%|███████▎  | 1451/2001 [20:21<08:36,  1.07it/s]"
     ]
    },
    {
     "name": "stdout",
     "output_type": "stream",
     "text": [
      "\n",
      "Eposide 1450:\n",
      "- Train Average Return = 16.35\n",
      "- Eval Average Return  = 16.67\n",
      "- Loss                 = 28.77\n"
     ]
    },
    {
     "name": "stderr",
     "output_type": "stream",
     "text": [
      " 75%|███████▌  | 1501/2001 [21:11<08:11,  1.02it/s]"
     ]
    },
    {
     "name": "stdout",
     "output_type": "stream",
     "text": [
      "\n",
      "Eposide 1500:\n",
      "- Train Average Return = 17.34\n",
      "- Eval Average Return  = 18.03\n",
      "- Loss                 = 24.79\n"
     ]
    },
    {
     "name": "stderr",
     "output_type": "stream",
     "text": [
      " 78%|███████▊  | 1551/2001 [22:01<07:39,  1.02s/it]"
     ]
    },
    {
     "name": "stdout",
     "output_type": "stream",
     "text": [
      "\n",
      "Eposide 1550:\n",
      "- Train Average Return = 18.41\n",
      "- Eval Average Return  = 16.95\n",
      "- Loss                 = 5.96\n"
     ]
    },
    {
     "name": "stderr",
     "output_type": "stream",
     "text": [
      " 80%|████████  | 1601/2001 [22:49<06:32,  1.02it/s]"
     ]
    },
    {
     "name": "stdout",
     "output_type": "stream",
     "text": [
      "\n",
      "Eposide 1600:\n",
      "- Train Average Return = 12.61\n",
      "- Eval Average Return  = 18.08\n",
      "- Loss                 = 29.12\n"
     ]
    },
    {
     "name": "stderr",
     "output_type": "stream",
     "text": [
      " 83%|████████▎ | 1651/2001 [23:39<05:44,  1.02it/s]"
     ]
    },
    {
     "name": "stdout",
     "output_type": "stream",
     "text": [
      "\n",
      "Eposide 1650:\n",
      "- Train Average Return = 17.83\n",
      "- Eval Average Return  = 18.03\n",
      "- Loss                 = 35.92\n"
     ]
    },
    {
     "name": "stderr",
     "output_type": "stream",
     "text": [
      " 85%|████████▌ | 1701/2001 [24:29<04:54,  1.02it/s]"
     ]
    },
    {
     "name": "stdout",
     "output_type": "stream",
     "text": [
      "\n",
      "Eposide 1700:\n",
      "- Train Average Return = 14.57\n",
      "- Eval Average Return  = 19.72\n",
      "- Loss                 = 60.19\n"
     ]
    },
    {
     "name": "stderr",
     "output_type": "stream",
     "text": [
      " 88%|████████▊ | 1751/2001 [25:20<03:53,  1.07it/s]"
     ]
    },
    {
     "name": "stdout",
     "output_type": "stream",
     "text": [
      "\n",
      "Eposide 1750:\n",
      "- Train Average Return = 17.02\n",
      "- Eval Average Return  = 18.08\n",
      "- Loss                 = 7.65\n"
     ]
    },
    {
     "name": "stderr",
     "output_type": "stream",
     "text": [
      " 90%|█████████ | 1801/2001 [26:09<03:29,  1.05s/it]"
     ]
    },
    {
     "name": "stdout",
     "output_type": "stream",
     "text": [
      "\n",
      "Eposide 1800:\n",
      "- Train Average Return = 14.45\n",
      "- Eval Average Return  = 18.03\n",
      "- Loss                 = 3.17\n"
     ]
    },
    {
     "name": "stderr",
     "output_type": "stream",
     "text": [
      " 93%|█████████▎| 1851/2001 [26:59<02:28,  1.01it/s]"
     ]
    },
    {
     "name": "stdout",
     "output_type": "stream",
     "text": [
      "\n",
      "Eposide 1850:\n",
      "- Train Average Return = 12.47\n",
      "- Eval Average Return  = 19.41\n",
      "- Loss                 = 46.30\n"
     ]
    },
    {
     "name": "stderr",
     "output_type": "stream",
     "text": [
      " 95%|█████████▌| 1901/2001 [27:48<01:41,  1.01s/it]"
     ]
    },
    {
     "name": "stdout",
     "output_type": "stream",
     "text": [
      "\n",
      "Eposide 1900:\n",
      "- Train Average Return = 14.32\n",
      "- Eval Average Return  = 15.30\n",
      "- Loss                 = 11.66\n"
     ]
    },
    {
     "name": "stderr",
     "output_type": "stream",
     "text": [
      " 98%|█████████▊| 1951/2001 [28:35<00:43,  1.14it/s]"
     ]
    },
    {
     "name": "stdout",
     "output_type": "stream",
     "text": [
      "\n",
      "Eposide 1950:\n",
      "- Train Average Return = 14.65\n",
      "- Eval Average Return  = 16.44\n",
      "- Loss                 = 11.92\n"
     ]
    },
    {
     "name": "stderr",
     "output_type": "stream",
     "text": [
      "100%|██████████| 2001/2001 [29:23<00:00,  1.13it/s]"
     ]
    },
    {
     "name": "stdout",
     "output_type": "stream",
     "text": [
      "\n",
      "Eposide 2000:\n",
      "- Train Average Return = 14.51\n",
      "- Eval Average Return  = 12.33\n",
      "- Loss                 = 6.38\n"
     ]
    },
    {
     "name": "stderr",
     "output_type": "stream",
     "text": [
      "\n"
     ]
    }
   ],
   "source": [
    "from tqdm import tqdm\n",
    "\n",
    "losses = []\n",
    "rewards = []\n",
    "\n",
    "policy_state = tf_agent.collect_policy.get_initial_state(tf_env.batch_size)\n",
    "\n",
    "evl_returns = []\n",
    "trn_returns = []\n",
    "losses = []\n",
    "\n",
    "for n_episode in tqdm(range(train_steps+1)):\n",
    "\n",
    "    # Eval Returns (before next training step)\n",
    "    initial_time_step = tf_env.reset()\n",
    "    _ = evl_driver.run(initial_time_step)\n",
    "    evl_return = evl_return_observer.result().numpy()\n",
    "    evl_returns.append(evl_return)\n",
    "\n",
    "    # Train Step\n",
    "    initial_time_step = tf_env.reset()\n",
    "    _, policy_state = trn_driver.run(initial_time_step, policy_state)\n",
    "\n",
    "    if agent_type != \"DQN\":\n",
    "        trajectories = replay_buffer.gather_all()\n",
    "        \n",
    "    if agent_type == \"DQN\":\n",
    "        data = replay_buffer.as_dataset(\n",
    "            num_parallel_calls=3,\n",
    "            sample_batch_size=dqn_batch_size,\n",
    "            num_steps=2).prefetch(3)\n",
    "        trajectories, _ = next(iter(data))\n",
    "        \n",
    "\n",
    "    train_loss = tf_agent.train(experience=trajectories)  \n",
    "    loss = train_loss.loss.numpy()\n",
    "    losses.append(loss)\n",
    "\n",
    "    # Clearing Buffer\n",
    "    replay_buffer.clear()\n",
    "\n",
    "    # Train Returns\n",
    "    trn_return = trn_return_observer.result().numpy()\n",
    "    trn_returns.append(trn_return)\n",
    "\n",
    "    # Logging\n",
    "    if n_episode % log_interval == 0:\n",
    "        print(f\"\\nEposide {n_episode}:\")\n",
    "        print(f\"- Train Average Return = {trn_return:.2f}\")\n",
    "        print(f\"- Eval Average Return  = {evl_return:.2f}\")\n",
    "        print(f\"- Loss                 = {loss:.2f}\")"
   ]
  },
  {
   "cell_type": "markdown",
   "metadata": {},
   "source": [
    "#### Return History\n",
    "\n",
    "----"
   ]
  },
  {
   "cell_type": "code",
   "execution_count": 22,
   "metadata": {},
   "outputs": [
    {
     "data": {
      "image/png": "[encoded data removed]",
      "text/plain": [
       "<Figure size 640x480 with 1 Axes>"
      ]
     },
     "metadata": {},
     "output_type": "display_data"
    }
   ],
   "source": [
    "import matplotlib.pyplot as plt\n",
    "\n",
    "plt.plot(trn_returns, label=\"Train Average Return\")\n",
    "plt.plot(evl_returns, label=\"Eval Average Return\")\n",
    "plt.ylabel(\"Average Return\")\n",
    "plt.xlabel(f\"Train Step ({episodes_per_train_step} episodes per train step)\")\n",
    "plt.legend()\n",
    "plt.show()"
   ]
  },
  {
   "cell_type": "markdown",
   "metadata": {},
   "source": [
    "#### Visualizing Policy Execution\n",
    "\n",
    "-----"
   ]
  },
  {
   "cell_type": "code",
   "execution_count": 23,
   "metadata": {},
   "outputs": [],
   "source": [
    "time_step = tf_env.reset()\n",
    "_ = evl_driver.run(time_step)"
   ]
  },
  {
   "cell_type": "code",
   "execution_count": 24,
   "metadata": {},
   "outputs": [
    {
     "data": {
      "application/vnd.plotly.v1+json": {
       "config": {
        "plotlyServerURL": "https://plot.ly"
       },
       "data": [
        {
         "hovertemplate": "x=%{x}<br>y=%{y}<br>z=%{z}<br>size=%{marker.size}<extra></extra>",
         "legendgroup": "",
         "marker": {
          "color": "purple",
          "size": [
           1
          ],
          "sizemode": "area",
          "sizeref": 0.0025,
          "symbol": "circle"
         },
         "mode": "markers",
         "name": "",
         "scene": "scene",
         "showlegend": false,
         "type": "scatter3d",
         "x": [
          0
         ],
         "y": [
          0
         ],
         "z": [
          0.10000000149011612
         ]
        },
        {
         "hovertemplate": "body=earth<br>x=%{x}<br>y=%{y}<br>z=%{z}<extra></extra>",
         "legendgroup": "earth",
         "line": {
          "color": "#636efa",
          "dash": "solid"
         },
         "marker": {
          "symbol": "circle"
         },
         "mode": "lines",
         "name": "earth",
         "scene": "scene",
         "showlegend": true,
         "type": "scatter3d",
         "x": [
          -0.17567656934261322,
          -0.2100236713886261,
          -0.2441209852695465,
          -0.2779237627983093,
          -0.3113875091075897,
          -0.34446844458580017,
          -0.37712377309799194,
          -0.40931224822998047,
          -0.440994530916214,
          -0.4721335172653198,
          -0.5026941299438477,
          -0.5326423645019531,
          -0.5619438886642456,
          -0.5905635356903076,
          -0.6184654235839844,
          -0.6456139087677002,
          -0.6719738841056824,
          -0.6975108981132507,
          -0.7221918106079102,
          -0.7459848523139954,
          -0.7688601613044739,
          -0.7907903790473938,
          -0.8117505311965942,
          -0.8317185044288635,
          -0.8506744503974915,
          -0.868599534034729,
          -0.8854752779006958,
          -0.9012826681137085,
          -0.9160028100013733,
          -0.9296173453330994,
          -0.9421088695526123,
          -0.9534614682197571,
          -0.9636607766151428,
          -0.9726940989494324,
          -0.9805514216423035,
          -0.9872252941131592,
          -0.9927112460136414,
          -0.9970076680183411,
          -1.0001145601272583,
          -1.0020328760147095,
          -1.002764105796814,
          -1.0023090839385986,
          -1.000669002532959,
          -0.9978456497192383,
          -0.9938421845436096,
          -0.9886628985404968,
          -0.9823138117790222,
          -0.9748026728630066,
          -0.9661396741867065,
          -0.9563378691673279,
          -0.9454131126403809,
          -0.9333834648132324
         ],
         "y": [
          0.9659890532493591,
          0.9593546390533447,
          0.9515174627304077,
          0.942486584186554,
          0.9322735667228699,
          0.9208922982215881,
          0.9083592295646667,
          0.8946929574012756,
          0.8799137473106384,
          0.8640429377555847,
          0.8471020460128784,
          0.8291118144989014,
          0.8100924491882324,
          0.7900649309158325,
          0.7690519690513611,
          0.7470782399177551,
          0.7241705060005188,
          0.7003574371337891,
          0.6756699681282043,
          0.6501407027244568,
          0.62380450963974,
          0.5966973900794983,
          0.568856418132782,
          0.5403187870979309,
          0.5111208558082581,
          0.48129802942276,
          0.45088472962379456,
          0.41991570591926575,
          0.3884267508983612,
          0.3564552068710327,
          0.3240397274494171,
          0.29122039675712585,
          0.2580384910106659,
          0.22453667223453522,
          0.190758615732193,
          0.15674865245819092,
          0.122550830245018,
          0.08820817619562149,
          0.05376209691166878,
          0.019252333790063858,
          -0.015282564796507359,
          -0.04980435594916344,
          -0.08427435904741287,
          -0.11865313351154327,
          -0.15290051698684692,
          -0.18697576224803925,
          -0.2208375632762909,
          -0.25444409251213074,
          -0.2877531349658966,
          -0.3207227289676666,
          -0.353312224149704,
          -0.3854830265045166
         ],
         "z": [
          0.00002149350621039048,
          0.00002288799441885203,
          0.00002498823778296355,
          0.000027650236006593332,
          0.00003067478246521205,
          0.00003382885915925726,
          0.00003687653224915266,
          0.00003961824404541403,
          0.00004193782660877332,
          0.00004385869033285417,
          0.00004557728243526071,
          0.000047416655434062704,
          0.000049704303819453344,
          0.00005266203879727982,
          0.000056374545238213614,
          0.000060814389144070446,
          0.00006587210373254493,
          0.000071374983235728,
          0.00007710260251769796,
          0.00008280962356366217,
          0.0000882635940797627,
          0.00009329383465228602,
          0.00009783852874534205,
          0.00010197969822911546,
          0.00010594581544864923,
          0.00011005390842910856,
          0.00011460161476861686,
          0.00011977423127973452,
          0.00012561881158035249,
          0.00013207121810410172,
          0.00013899146870244294,
          0.00014618640125263482,
          0.00015342480037361383,
          0.0001604601857252419,
          0.00016707397298887372,
          0.00017313362332060933,
          0.00017863995162770152,
          0.00018373868078924716,
          0.00018868801998905838,
          0.00019378714205231518,
          0.00019928721303585917,
          0.0002053248608717695,
          0.00021190685220062733,
          0.00021893615485168993,
          0.00022624769189860672,
          0.00023363404034171253,
          0.00024086212215479463,
          0.0002476958616171032,
          0.0002539418637752533,
          0.00025951446150429547,
          0.00026448225253261626,
          0.0002690557739697397
         ]
        },
        {
         "hovertemplate": "body=test<br>x=%{x}<br>y=%{y}<br>z=%{z}<extra></extra>",
         "legendgroup": "test",
         "line": {
          "color": "#EF553B",
          "dash": "solid"
         },
         "marker": {
          "symbol": "circle"
         },
         "mode": "lines",
         "name": "test",
         "scene": "scene",
         "showlegend": true,
         "type": "scatter3d",
         "x": [
          0,
          -3.299397977052365e-10,
          -1.319759190820946e-9,
          -2.96945734667986e-9,
          -5.279031434213266e-9,
          -8.248473903904596e-9,
          -1.187776987876532e-8,
          -1.616689182526443e-8,
          -2.1115793558124096e-8,
          -2.6724404023070747e-8,
          -3.2992623744121374e-8,
          -3.992030883637199e-8,
          -4.750727100599761e-8,
          -5.5753254457613366e-8,
          -6.465793944698817e-8,
          -7.422092807018998e-8,
          -8.444171584187643e-8,
          -9.531972011700418e-8,
          -1.0685428009082898e-7,
          -1.1904465679890563e-7,
          -1.3189006153879745e-7,
          -1.4538960613208474e-7,
          -1.5954235266235628e-7,
          -1.743472779480726e-7,
          -1.898033019642753e-7,
          -2.059092594208778e-7,
          -2.2266394239522924e-7,
          -2.4006604348869587e-7,
          -2.5811422688093444e-7,
          -2.76807043064764e-7,
          -2.961430141112942e-7,
          -3.161206052482157e-7,
          -3.367381680163817e-7,
          -3.579940539566451e-7,
          -3.798864725013118e-7,
          -4.0241366150439717e-7,
          -4.2557371671136934e-7,
          -4.493647338676965e-7,
          -4.7378472345371847e-7,
          -4.988316391063563e-7,
          -5.24503434462531e-7,
          -5.50797892628907e-7,
          -5.777127967121487e-7,
          -6.052459298189206e-7,
          -6.333949613690493e-7,
          -6.621575607823615e-7,
          -6.915312837918464e-7,
          -7.215136292870739e-7,
          -7.52102153001033e-7,
          -7.832942401364562e-7,
          -8.150873327394947e-7,
          -8.474787591694621e-7
         ],
         "y": [
          0,
          1.8142329860637574e-9,
          7.2569319442550295e-9,
          1.6328090879369483e-8,
          2.9027697578953848e-8,
          4.535571207497924e-8,
          6.53120508786742e-8,
          8.889655589428003e-8,
          1.1610897132641185e-7,
          1.469489205874197e-7,
          1.8141584234854236e-7,
          2.1950896211819781e-7,
          2.6122722829313716e-7,
          3.065692339987436e-7,
          3.5553324551074184e-7,
          4.0811704593579634e-7,
          4.6431787836809235e-7,
          5.241325311544642e-7,
          5.875573378943955e-7,
          6.545883479702752e-7,
          7.252210707520135e-7,
          7.99450731392426e-7,
          8.772721002969774e-7,
          9.586796068106196e-7,
          0.0000010436673392177909,
          0.0000011322288173687411,
          0.0000012243574474268826,
          0.0000013200460671214387,
          0.0000014192871731211198,
          0.000001522073034720961,
          0.0000016283954664686462,
          0.0000017382458281645086,
          0.0000018516152522352058,
          0.000001968494416360045,
          0.000002088873770844657,
          0.000002212743538620998,
          0.000002340093260499998,
          0.000002470912477292586,
          0.0000026051902750623412,
          0.000002742915285125491,
          0.000002884076138798264,
          0.0000030286607852758607,
          0.0000031766574011271587,
          0.000003328053253426333,
          0.000003482835836621234,
          0.0000036409919630386867,
          0.0000038025084450055147,
          0.000003967371867474867,
          0.000004135568360652542,
          0.000004307083599996986,
          0.000004481903488340322,
          0.0000046600134737673216
         ],
         "z": [
          0,
          0.00019999999494757503,
          0.000800000037997961,
          0.0017999999690800905,
          0.0031999999191612005,
          0.004999999888241291,
          0.007199999876320362,
          0.009800000116229057,
          0.012800000607967377,
          0.016200000420212746,
          0.019999999552965164,
          0.02419999986886978,
          0.02879999950528145,
          0.033799998462200165,
          0.03919999673962593,
          0.044999994337558746,
          0.05099999159574509,
          0.05699998885393143,
          0.06299998611211777,
          0.06899998337030411,
          0.07499998062849045,
          0.08099997788667679,
          0.08699997514486313,
          0.09299997240304947,
          0.09899996966123581,
          0.10499996691942215,
          0.11099996417760849,
          0.11699996143579483,
          0.12299995869398117,
          0.12899994850158691,
          0.13499994575977325,
          0.1409999430179596,
          0.14699994027614594,
          0.15299993753433228,
          0.15899993479251862,
          0.16499993205070496,
          0.1709999293088913,
          0.17699992656707764,
          0.18299990892410278,
          0.18899989128112793,
          0.19499987363815308,
          0.20099985599517822,
          0.20699983835220337,
          0.21299982070922852,
          0.21899980306625366,
          0.2249997854232788,
          0.23099976778030396,
          0.2369997501373291,
          0.24299973249435425,
          0.2489997148513794,
          0.25499969720840454,
          0.2609996795654297
         ]
        }
       ],
       "layout": {
        "scene": {
         "zaxis": {
          "nticks": 4
         }
        },
        "template": {
         "data": {
          "bar": [
           {
            "error_x": {
             "color": "#2a3f5f"
            },
            "error_y": {
             "color": "#2a3f5f"
            },
            "marker": {
             "line": {
              "color": "#E5ECF6",
              "width": 0.5
             },
             "pattern": {
              "fillmode": "overlay",
              "size": 10,
              "solidity": 0.2
             }
            },
            "type": "bar"
           }
          ],
          "barpolar": [
           {
            "marker": {
             "line": {
              "color": "#E5ECF6",
              "width": 0.5
             },
             "pattern": {
              "fillmode": "overlay",
              "size": 10,
              "solidity": 0.2
             }
            },
            "type": "barpolar"
           }
          ],
          "carpet": [
           {
            "aaxis": {
             "endlinecolor": "#2a3f5f",
             "gridcolor": "white",
             "linecolor": "white",
             "minorgridcolor": "white",
             "startlinecolor": "#2a3f5f"
            },
            "baxis": {
             "endlinecolor": "#2a3f5f",
             "gridcolor": "white",
             "linecolor": "white",
             "minorgridcolor": "white",
             "startlinecolor": "#2a3f5f"
            },
            "type": "carpet"
           }
          ],
          "choropleth": [
           {
            "colorbar": {
             "outlinewidth": 0,
             "ticks": ""
            },
            "type": "choropleth"
           }
          ],
          "contour": [
           {
            "colorbar": {
             "outlinewidth": 0,
             "ticks": ""
            },
            "colorscale": [
             [
              0,
              "#0d0887"
             ],
             [
              0.1111111111111111,
              "#46039f"
             ],
             [
              0.2222222222222222,
              "#7201a8"
             ],
             [
              0.3333333333333333,
              "#9c179e"
             ],
             [
              0.4444444444444444,
              "#bd3786"
             ],
             [
              0.5555555555555556,
              "#d8576b"
             ],
             [
              0.6666666666666666,
              "#ed7953"
             ],
             [
              0.7777777777777778,
              "#fb9f3a"
             ],
             [
              0.8888888888888888,
              "#fdca26"
             ],
             [
              1,
              "#f0f921"
             ]
            ],
            "type": "contour"
           }
          ],
          "contourcarpet": [
           {
            "colorbar": {
             "outlinewidth": 0,
             "ticks": ""
            },
            "type": "contourcarpet"
           }
          ],
          "heatmap": [
           {
            "colorbar": {
             "outlinewidth": 0,
             "ticks": ""
            },
            "colorscale": [
             [
              0,
              "#0d0887"
             ],
             [
              0.1111111111111111,
              "#46039f"
             ],
             [
              0.2222222222222222,
              "#7201a8"
             ],
             [
              0.3333333333333333,
              "#9c179e"
             ],
             [
              0.4444444444444444,
              "#bd3786"
             ],
             [
              0.5555555555555556,
              "#d8576b"
             ],
             [
              0.6666666666666666,
              "#ed7953"
             ],
             [
              0.7777777777777778,
              "#fb9f3a"
             ],
             [
              0.8888888888888888,
              "#fdca26"
             ],
             [
              1,
              "#f0f921"
             ]
            ],
            "type": "heatmap"
           }
          ],
          "heatmapgl": [
           {
            "colorbar": {
             "outlinewidth": 0,
             "ticks": ""
            },
            "colorscale": [
             [
              0,
              "#0d0887"
             ],
             [
              0.1111111111111111,
              "#46039f"
             ],
             [
              0.2222222222222222,
              "#7201a8"
             ],
             [
              0.3333333333333333,
              "#9c179e"
             ],
             [
              0.4444444444444444,
              "#bd3786"
             ],
             [
              0.5555555555555556,
              "#d8576b"
             ],
             [
              0.6666666666666666,
              "#ed7953"
             ],
             [
              0.7777777777777778,
              "#fb9f3a"
             ],
             [
              0.8888888888888888,
              "#fdca26"
             ],
             [
              1,
              "#f0f921"
             ]
            ],
            "type": "heatmapgl"
           }
          ],
          "histogram": [
           {
            "marker": {
             "pattern": {
              "fillmode": "overlay",
              "size": 10,
              "solidity": 0.2
             }
            },
            "type": "histogram"
           }
          ],
          "histogram2d": [
           {
            "colorbar": {
             "outlinewidth": 0,
             "ticks": ""
            },
            "colorscale": [
             [
              0,
              "#0d0887"
             ],
             [
              0.1111111111111111,
              "#46039f"
             ],
             [
              0.2222222222222222,
              "#7201a8"
             ],
             [
              0.3333333333333333,
              "#9c179e"
             ],
             [
              0.4444444444444444,
              "#bd3786"
             ],
             [
              0.5555555555555556,
              "#d8576b"
             ],
             [
              0.6666666666666666,
              "#ed7953"
             ],
             [
              0.7777777777777778,
              "#fb9f3a"
             ],
             [
              0.8888888888888888,
              "#fdca26"
             ],
             [
              1,
              "#f0f921"
             ]
            ],
            "type": "histogram2d"
           }
          ],
          "histogram2dcontour": [
           {
            "colorbar": {
             "outlinewidth": 0,
             "ticks": ""
            },
            "colorscale": [
             [
              0,
              "#0d0887"
             ],
             [
              0.1111111111111111,
              "#46039f"
             ],
             [
              0.2222222222222222,
              "#7201a8"
             ],
             [
              0.3333333333333333,
              "#9c179e"
             ],
             [
              0.4444444444444444,
              "#bd3786"
             ],
             [
              0.5555555555555556,
              "#d8576b"
             ],
             [
              0.6666666666666666,
              "#ed7953"
             ],
             [
              0.7777777777777778,
              "#fb9f3a"
             ],
             [
              0.8888888888888888,
              "#fdca26"
             ],
             [
              1,
              "#f0f921"
             ]
            ],
            "type": "histogram2dcontour"
           }
          ],
          "mesh3d": [
           {
            "colorbar": {
             "outlinewidth": 0,
             "ticks": ""
            },
            "type": "mesh3d"
           }
          ],
          "parcoords": [
           {
            "line": {
             "colorbar": {
              "outlinewidth": 0,
              "ticks": ""
             }
            },
            "type": "parcoords"
           }
          ],
          "pie": [
           {
            "automargin": true,
            "type": "pie"
           }
          ],
          "scatter": [
           {
            "fillpattern": {
             "fillmode": "overlay",
             "size": 10,
             "solidity": 0.2
            },
            "type": "scatter"
           }
          ],
          "scatter3d": [
           {
            "line": {
             "colorbar": {
              "outlinewidth": 0,
              "ticks": ""
             }
            },
            "marker": {
             "colorbar": {
              "outlinewidth": 0,
              "ticks": ""
             }
            },
            "type": "scatter3d"
           }
          ],
          "scattercarpet": [
           {
            "marker": {
             "colorbar": {
              "outlinewidth": 0,
              "ticks": ""
             }
            },
            "type": "scattercarpet"
           }
          ],
          "scattergeo": [
           {
            "marker": {
             "colorbar": {
              "outlinewidth": 0,
              "ticks": ""
             }
            },
            "type": "scattergeo"
           }
          ],
          "scattergl": [
           {
            "marker": {
             "colorbar": {
              "outlinewidth": 0,
              "ticks": ""
             }
            },
            "type": "scattergl"
           }
          ],
          "scattermapbox": [
           {
            "marker": {
             "colorbar": {
              "outlinewidth": 0,
              "ticks": ""
             }
            },
            "type": "scattermapbox"
           }
          ],
          "scatterpolar": [
           {
            "marker": {
             "colorbar": {
              "outlinewidth": 0,
              "ticks": ""
             }
            },
            "type": "scatterpolar"
           }
          ],
          "scatterpolargl": [
           {
            "marker": {
             "colorbar": {
              "outlinewidth": 0,
              "ticks": ""
             }
            },
            "type": "scatterpolargl"
           }
          ],
          "scatterternary": [
           {
            "marker": {
             "colorbar": {
              "outlinewidth": 0,
              "ticks": ""
             }
            },
            "type": "scatterternary"
           }
          ],
          "surface": [
           {
            "colorbar": {
             "outlinewidth": 0,
             "ticks": ""
            },
            "colorscale": [
             [
              0,
              "#0d0887"
             ],
             [
              0.1111111111111111,
              "#46039f"
             ],
             [
              0.2222222222222222,
              "#7201a8"
             ],
             [
              0.3333333333333333,
              "#9c179e"
             ],
             [
              0.4444444444444444,
              "#bd3786"
             ],
             [
              0.5555555555555556,
              "#d8576b"
             ],
             [
              0.6666666666666666,
              "#ed7953"
             ],
             [
              0.7777777777777778,
              "#fb9f3a"
             ],
             [
              0.8888888888888888,
              "#fdca26"
             ],
             [
              1,
              "#f0f921"
             ]
            ],
            "type": "surface"
           }
          ],
          "table": [
           {
            "cells": {
             "fill": {
              "color": "#EBF0F8"
             },
             "line": {
              "color": "white"
             }
            },
            "header": {
             "fill": {
              "color": "#C8D4E3"
             },
             "line": {
              "color": "white"
             }
            },
            "type": "table"
           }
          ]
         },
         "layout": {
          "annotationdefaults": {
           "arrowcolor": "#2a3f5f",
           "arrowhead": 0,
           "arrowwidth": 1
          },
          "autotypenumbers": "strict",
          "coloraxis": {
           "colorbar": {
            "outlinewidth": 0,
            "ticks": ""
           }
          },
          "colorscale": {
           "diverging": [
            [
             0,
             "#8e0152"
            ],
            [
             0.1,
             "#c51b7d"
            ],
            [
             0.2,
             "#de77ae"
            ],
            [
             0.3,
             "#f1b6da"
            ],
            [
             0.4,
             "#fde0ef"
            ],
            [
             0.5,
             "#f7f7f7"
            ],
            [
             0.6,
             "#e6f5d0"
            ],
            [
             0.7,
             "#b8e186"
            ],
            [
             0.8,
             "#7fbc41"
            ],
            [
             0.9,
             "#4d9221"
            ],
            [
             1,
             "#276419"
            ]
           ],
           "sequential": [
            [
             0,
             "#0d0887"
            ],
            [
             0.1111111111111111,
             "#46039f"
            ],
            [
             0.2222222222222222,
             "#7201a8"
            ],
            [
             0.3333333333333333,
             "#9c179e"
            ],
            [
             0.4444444444444444,
             "#bd3786"
            ],
            [
             0.5555555555555556,
             "#d8576b"
            ],
            [
             0.6666666666666666,
             "#ed7953"
            ],
            [
             0.7777777777777778,
             "#fb9f3a"
            ],
            [
             0.8888888888888888,
             "#fdca26"
            ],
            [
             1,
             "#f0f921"
            ]
           ],
           "sequentialminus": [
            [
             0,
             "#0d0887"
            ],
            [
             0.1111111111111111,
             "#46039f"
            ],
            [
             0.2222222222222222,
             "#7201a8"
            ],
            [
             0.3333333333333333,
             "#9c179e"
            ],
            [
             0.4444444444444444,
             "#bd3786"
            ],
            [
             0.5555555555555556,
             "#d8576b"
            ],
            [
             0.6666666666666666,
             "#ed7953"
            ],
            [
             0.7777777777777778,
             "#fb9f3a"
            ],
            [
             0.8888888888888888,
             "#fdca26"
            ],
            [
             1,
             "#f0f921"
            ]
           ]
          },
          "colorway": [
           "#636efa",
           "#EF553B",
           "#00cc96",
           "#ab63fa",
           "#FFA15A",
           "#19d3f3",
           "#FF6692",
           "#B6E880",
           "#FF97FF",
           "#FECB52"
          ],
          "font": {
           "color": "#2a3f5f"
          },
          "geo": {
           "bgcolor": "white",
           "lakecolor": "white",
           "landcolor": "#E5ECF6",
           "showlakes": true,
           "showland": true,
           "subunitcolor": "white"
          },
          "hoverlabel": {
           "align": "left"
          },
          "hovermode": "closest",
          "mapbox": {
           "style": "light"
          },
          "paper_bgcolor": "white",
          "plot_bgcolor": "#E5ECF6",
          "polar": {
           "angularaxis": {
            "gridcolor": "white",
            "linecolor": "white",
            "ticks": ""
           },
           "bgcolor": "#E5ECF6",
           "radialaxis": {
            "gridcolor": "white",
            "linecolor": "white",
            "ticks": ""
           }
          },
          "scene": {
           "xaxis": {
            "backgroundcolor": "#E5ECF6",
            "gridcolor": "white",
            "gridwidth": 2,
            "linecolor": "white",
            "showbackground": true,
            "ticks": "",
            "zerolinecolor": "white"
           },
           "yaxis": {
            "backgroundcolor": "#E5ECF6",
            "gridcolor": "white",
            "gridwidth": 2,
            "linecolor": "white",
            "showbackground": true,
            "ticks": "",
            "zerolinecolor": "white"
           },
           "zaxis": {
            "backgroundcolor": "#E5ECF6",
            "gridcolor": "white",
            "gridwidth": 2,
            "linecolor": "white",
            "showbackground": true,
            "ticks": "",
            "zerolinecolor": "white"
           }
          },
          "shapedefaults": {
           "line": {
            "color": "#2a3f5f"
           }
          },
          "ternary": {
           "aaxis": {
            "gridcolor": "white",
            "linecolor": "white",
            "ticks": ""
           },
           "baxis": {
            "gridcolor": "white",
            "linecolor": "white",
            "ticks": ""
           },
           "bgcolor": "#E5ECF6",
           "caxis": {
            "gridcolor": "white",
            "linecolor": "white",
            "ticks": ""
           }
          },
          "title": {
           "x": 0.05
          },
          "xaxis": {
           "automargin": true,
           "gridcolor": "white",
           "linecolor": "white",
           "ticks": "",
           "title": {
            "standoff": 15
           },
           "zerolinecolor": "white",
           "zerolinewidth": 2
          },
          "yaxis": {
           "automargin": true,
           "gridcolor": "white",
           "linecolor": "white",
           "ticks": "",
           "title": {
            "standoff": 15
           },
           "zerolinecolor": "white",
           "zerolinewidth": 2
          }
         }
        }
       }
      }
     },
     "metadata": {},
     "output_type": "display_data"
    }
   ],
   "source": [
    "plotter = src.Plotter(env=tf_env)\n",
    "plotter.draw(\"3d\", zrange=None)"
   ]
  },
  {
   "cell_type": "code",
   "execution_count": null,
   "metadata": {},
   "outputs": [],
   "source": []
  }
 ],
 "metadata": {
  "kernelspec": {
   "display_name": "stellarflow",
   "language": "python",
   "name": "python3"
  },
  "language_info": {
   "codemirror_mode": {
    "name": "ipython",
    "version": 3
   },
   "file_extension": ".py",
   "mimetype": "text/x-python",
   "name": "python",
   "nbconvert_exporter": "python",
   "pygments_lexer": "ipython3",
   "version": "3.10.9"
  },
  "orig_nbformat": 4
 },
 "nbformat": 4,
 "nbformat_minor": 2
}
