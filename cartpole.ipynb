{
  "cells": [
    {
      "cell_type": "markdown",
      "metadata": {
        "id": "HNtBC6Bbb1YU"
      },
      "source": [
        "## Cart-Pole\n",
        "\n",
        "-----\n",
        "\n",
        "This Notebook tests the setup used in the reinforcement-learning approach using\n",
        "a simpler environment, namely the Cart-Pole environment. It is adaped from\n",
        "https://www.tensorflow.org/agents/tutorials/6_reinforce_tutorial\n",
        "but a simpler setup of driver-replay_buffer composition is used."
      ]
    },
    {
      "cell_type": "code",
      "execution_count": 47,
      "metadata": {
        "id": "sMitx5qSgJk1"
      },
      "outputs": [],
      "source": [
        "import matplotlib.pyplot as plt\n",
        "import numpy as np\n",
        "\n",
        "import tensorflow as tf"
      ]
    },
    {
      "cell_type": "markdown",
      "metadata": {
        "id": "LmC0NDhdLIKY"
      },
      "source": [
        "## Hyperparameters"
      ]
    },
    {
      "cell_type": "code",
      "execution_count": 48,
      "metadata": {
        "id": "HC1kNrOsLSIZ"
      },
      "outputs": [],
      "source": [
        "env_name = \"CartPole-v0\"\n",
        "learning_rate = 1e-3\n",
        "\n",
        "train_steps = 100\n",
        "episodes_per_train_step = 5\n",
        "episodes_per_eval_step = 1\n",
        "\n",
        "max_episode_length = 200 # Is fixed for CartPole -> keep.\n",
        "replay_buffer_capacity = episodes_per_train_step * max_episode_length + 10\n",
        "\n",
        "log_interval = 20\n",
        "\n",
        "fc_layer_params = (50, 50)"
      ]
    },
    {
      "cell_type": "markdown",
      "metadata": {
        "id": "VMsJC3DEgI0x"
      },
      "source": [
        "#### Environment\n",
        "\n",
        "-----\n"
      ]
    },
    {
      "cell_type": "code",
      "execution_count": 49,
      "metadata": {
        "id": "pYEz-S9gEv2-"
      },
      "outputs": [],
      "source": [
        "from tf_agents.environments import suite_gym\n",
        "from tf_agents.environments.tf_py_environment import TFPyEnvironment\n",
        "\n",
        "env = suite_gym.load(env_name)\n",
        "tf_env = TFPyEnvironment(env)"
      ]
    },
    {
      "cell_type": "code",
      "execution_count": 50,
      "metadata": {},
      "outputs": [
        {
          "name": "stdout",
          "output_type": "stream",
          "text": [
            "\n",
            "Time step:\n",
            "TimeStep(\n",
            "{'discount': <tf.Tensor: shape=(1,), dtype=float32, numpy=array([1.], dtype=float32)>,\n",
            " 'observation': <tf.Tensor: shape=(1, 4), dtype=float32, numpy=\n",
            "array([[-0.01618532,  0.02430037, -0.04200445, -0.02941378]],\n",
            "      dtype=float32)>,\n",
            " 'reward': <tf.Tensor: shape=(1,), dtype=float32, numpy=array([0.], dtype=float32)>,\n",
            " 'step_type': <tf.Tensor: shape=(1,), dtype=int32, numpy=array([0])>})\n",
            "\n",
            "Observation Spec:\n",
            "BoundedTensorSpec(shape=(4,), dtype=tf.float32, name='observation', minimum=array([-4.8000002e+00, -3.4028235e+38, -4.1887903e-01, -3.4028235e+38],\n",
            "      dtype=float32), maximum=array([4.8000002e+00, 3.4028235e+38, 4.1887903e-01, 3.4028235e+38],\n",
            "      dtype=float32))\n",
            "\n",
            "Action Spec:\n",
            "BoundedTensorSpec(shape=(), dtype=tf.int64, name='action', minimum=array(0, dtype=int64), maximum=array(1, dtype=int64))\n"
          ]
        }
      ],
      "source": [
        "time_step = tf_env.reset()\n",
        "print('\\nTime step:')\n",
        "print(time_step)\n",
        "\n",
        "print('\\nObservation Spec:')\n",
        "print(tf_env.time_step_spec().observation)\n",
        "\n",
        "print('\\nAction Spec:')\n",
        "print(tf_env.action_spec())"
      ]
    },
    {
      "cell_type": "markdown",
      "metadata": {
        "id": "E9lW_OZYFR8A"
      },
      "source": [
        "#### Agent\n",
        "\n",
        "-----\n"
      ]
    },
    {
      "cell_type": "code",
      "execution_count": 51,
      "metadata": {
        "id": "TgkdEPg_muzV"
      },
      "outputs": [],
      "source": [
        "from tf_agents.networks.actor_distribution_network import ActorDistributionNetwork\n",
        "\n",
        "actor_net = ActorDistributionNetwork(\n",
        "    tf_env.observation_spec(),\n",
        "    tf_env.action_spec(),\n",
        "    fc_layer_params=fc_layer_params\n",
        ")\n",
        "\n",
        "from tf_agents.networks.value_network import ValueNetwork\n",
        "\n",
        "value_net = ValueNetwork(\n",
        "    tf_env.observation_spec()\n",
        ")"
      ]
    },
    {
      "cell_type": "code",
      "execution_count": 52,
      "metadata": {
        "id": "jbY4yrjTEyc9"
      },
      "outputs": [],
      "source": [
        "from tf_agents.agents import PPOAgent\n",
        "\n",
        "optimizer = tf.keras.optimizers.Adam(learning_rate=learning_rate)\n",
        "\n",
        "tf_agent = PPOAgent(\n",
        "    tf_env.time_step_spec(),\n",
        "    tf_env.action_spec(),\n",
        "    actor_net=actor_net,\n",
        "    value_net=value_net,\n",
        "    optimizer=optimizer,\n",
        ")\n",
        "\n",
        "tf_agent.initialize()"
      ]
    },
    {
      "cell_type": "markdown",
      "metadata": {
        "id": "94rCXQtbUbXv"
      },
      "source": [
        "#### Metrics\n",
        "\n",
        "-----\n"
      ]
    },
    {
      "cell_type": "code",
      "execution_count": 53,
      "metadata": {},
      "outputs": [],
      "source": [
        "from tf_agents.metrics.tf_metrics import AverageReturnMetric\n",
        "\n",
        "trn_return_observer = AverageReturnMetric()\n",
        "evl_return_observer = AverageReturnMetric()"
      ]
    },
    {
      "cell_type": "markdown",
      "metadata": {
        "id": "NLva6g2jdWgr"
      },
      "source": [
        "#### Replay Buffer\n",
        "\n",
        "-----"
      ]
    },
    {
      "cell_type": "code",
      "execution_count": 54,
      "metadata": {
        "id": "vX2zGUWJGWAl"
      },
      "outputs": [],
      "source": [
        "from tf_agents.replay_buffers.tf_uniform_replay_buffer import TFUniformReplayBuffer\n",
        "\n",
        "replay_buffer = TFUniformReplayBuffer(\n",
        "    data_spec=tf_agent.collect_data_spec,\n",
        "    batch_size=tf_env.batch_size,\n",
        "    max_length=replay_buffer_capacity\n",
        ")"
      ]
    },
    {
      "cell_type": "markdown",
      "metadata": {
        "id": "rVD5nQ9ZGo8_"
      },
      "source": [
        "#### Drivers\n",
        "\n",
        "-----"
      ]
    },
    {
      "cell_type": "code",
      "execution_count": 55,
      "metadata": {},
      "outputs": [],
      "source": [
        "from tf_agents.drivers.dynamic_episode_driver import DynamicEpisodeDriver\n",
        "\n",
        "trn_driver = DynamicEpisodeDriver(\n",
        "    tf_env,\n",
        "    tf_agent.collect_policy,\n",
        "    observers=[replay_buffer.add_batch, trn_return_observer],\n",
        "    num_episodes=episodes_per_train_step\n",
        ")\n",
        "\n",
        "evl_driver = DynamicEpisodeDriver(\n",
        "    tf_env,\n",
        "    tf_agent.policy,\n",
        "    observers=[evl_return_observer],\n",
        "    num_episodes=episodes_per_eval_step\n",
        ")"
      ]
    },
    {
      "cell_type": "markdown",
      "metadata": {
        "id": "hBc9lj9VWWtZ"
      },
      "source": [
        "## Training the agent"
      ]
    },
    {
      "cell_type": "code",
      "execution_count": 56,
      "metadata": {},
      "outputs": [],
      "source": [
        "# (Optional) Optimize by wrapping some of the code in a graph using TF function.\n",
        "from tf_agents.utils.common import function\n",
        "\n",
        "tf_agent.train = function(tf_agent.train)\n",
        "trn_driver.run = function(trn_driver.run)\n",
        "evl_driver.run = function(evl_driver.run)"
      ]
    },
    {
      "cell_type": "code",
      "execution_count": 57,
      "metadata": {
        "id": "0pTbJ3PeyF-u"
      },
      "outputs": [
        {
          "name": "stdout",
          "output_type": "stream",
          "text": [
            "\n",
            "Eposide 0:\n",
            "loss = 26575.029296875\n",
            "Train Average Return = 37.79999923706055\n",
            " Eval Average Return = 65.0\n",
            "\n",
            "Eposide 20:\n",
            "loss = 58367.7421875\n",
            "Train Average Return = 172.3000030517578\n",
            " Eval Average Return = 196.6999969482422\n",
            "\n",
            "Eposide 40:\n",
            "loss = 23680.205078125\n",
            "Train Average Return = 191.6999969482422\n",
            " Eval Average Return = 186.8000030517578\n",
            "\n",
            "Eposide 60:\n",
            "loss = 27306.90234375\n",
            "Train Average Return = 185.1999969482422\n",
            " Eval Average Return = 189.39999389648438\n",
            "\n",
            "Eposide 80:\n",
            "loss = 22882.455078125\n",
            "Train Average Return = 191.89999389648438\n",
            " Eval Average Return = 195.8000030517578\n",
            "\n",
            "Eposide 100:\n",
            "loss = 2025.3291015625\n",
            "Train Average Return = 195.89999389648438\n",
            " Eval Average Return = 200.0\n"
          ]
        }
      ],
      "source": [
        "evl_returns = []\n",
        "trn_returns = []\n",
        "\n",
        "for n_episode in range(train_steps+1):\n",
        "\n",
        "    # Eval Returns (before next training step)\n",
        "    initial_time_step = tf_env.reset()\n",
        "    evl_driver.run(initial_time_step)\n",
        "    evl_return = evl_return_observer.result()\n",
        "    evl_returns.append(evl_return)\n",
        "\n",
        "    # Train Step\n",
        "    initial_time_step = tf_env.reset()\n",
        "    trn_driver.run(initial_time_step)\n",
        "    trajectories = replay_buffer.gather_all()\n",
        "    train_loss = tf_agent.train(experience=trajectories)  \n",
        "\n",
        "    # Clearing Buffer\n",
        "    replay_buffer.clear()\n",
        "\n",
        "    # Train Returns\n",
        "    trn_return = trn_return_observer.result()\n",
        "    trn_returns.append(trn_return)\n",
        "\n",
        "    # Logging\n",
        "    if n_episode % log_interval == 0:\n",
        "        print(f\"\\nEposide {n_episode}:\")\n",
        "        print(f\"loss = {train_loss.loss}\")\n",
        "        print(f\"Train Average Return = {trn_return}\")\n",
        "        print(f\" Eval Average Return = {evl_return}\")"
      ]
    },
    {
      "cell_type": "markdown",
      "metadata": {
        "id": "68jNcA_TiJDq"
      },
      "source": [
        "#### Return History\n",
        "\n",
        "----"
      ]
    },
    {
      "cell_type": "code",
      "execution_count": 58,
      "metadata": {
        "id": "NxtL1mbOYCVO"
      },
      "outputs": [
        {
          "data": {
            "image/png": "[encoded data removed]",
            "text/plain": [
              "<Figure size 640x480 with 1 Axes>"
            ]
          },
          "metadata": {},
          "output_type": "display_data"
        }
      ],
      "source": [
        "steps = np.arange(train_steps + 1)\n",
        "plt.plot(steps, trn_returns, label=\"Train Average Return\")\n",
        "plt.plot(steps, evl_returns, label=\"Eval Average Return\")\n",
        "plt.ylabel(\"Average Return\")\n",
        "plt.xlabel(f\"Train Step ({episodes_per_train_step} episodes per train step)\")\n",
        "plt.ylim(top=250)\n",
        "plt.legend()\n",
        "plt.show()"
      ]
    }
  ],
  "metadata": {
    "accelerator": "GPU",
    "colab": {
      "collapsed_sections": [],
      "name": "6_reinforce_tutorial.ipynb",
      "provenance": [],
      "toc_visible": true
    },
    "kernelspec": {
      "display_name": "Python 3",
      "name": "python3"
    },
    "language_info": {
      "codemirror_mode": {
        "name": "ipython",
        "version": 3
      },
      "file_extension": ".py",
      "mimetype": "text/x-python",
      "name": "python",
      "nbconvert_exporter": "python",
      "pygments_lexer": "ipython3",
      "version": "3.10.9"
    }
  },
  "nbformat": 4,
  "nbformat_minor": 0
}
